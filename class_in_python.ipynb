{
 "cells": [
  {
   "cell_type": "code",
   "execution_count": 16,
   "id": "99e2ffdd-9495-472c-93e1-1084b4a0ac88",
   "metadata": {},
   "outputs": [
    {
     "name": "stderr",
     "output_type": "stream",
     "text": [
      "<>:1: SyntaxWarning: invalid decimal literal\n",
      "<>:1: SyntaxWarning: invalid decimal literal\n",
      "/var/folders/p2/6mgfcw956d17xkqh172sdjk40000gn/T/ipykernel_88791/2487208290.py:1: SyntaxWarning: invalid decimal literal\n",
      "  100inThis = variable\n"
     ]
    },
    {
     "ename": "SyntaxError",
     "evalue": "invalid syntax (2487208290.py, line 1)",
     "output_type": "error",
     "traceback": [
      "\u001b[0;36m  Cell \u001b[0;32mIn[16], line 1\u001b[0;36m\u001b[0m\n\u001b[0;31m    100inThis = variable\u001b[0m\n\u001b[0m       ^\u001b[0m\n\u001b[0;31mSyntaxError\u001b[0m\u001b[0;31m:\u001b[0m invalid syntax\n"
     ]
    }
   ],
   "source": [
    "100inThis = variable"
   ]
  },
  {
   "cell_type": "code",
   "execution_count": 18,
   "id": "0916cda3-d4b9-41d3-9550-0debb7a0f8dc",
   "metadata": {},
   "outputs": [],
   "source": [
    "_variable = 100"
   ]
  },
  {
   "cell_type": "code",
   "execution_count": 20,
   "id": "030616d8-9f09-43de-91eb-424019997fd7",
   "metadata": {},
   "outputs": [
    {
     "data": {
      "text/plain": [
       "100"
      ]
     },
     "execution_count": 20,
     "metadata": {},
     "output_type": "execute_result"
    }
   ],
   "source": [
    "_variable"
   ]
  },
  {
   "cell_type": "code",
   "execution_count": 22,
   "id": "83e7999b-d46e-4181-9fab-c638a977558e",
   "metadata": {},
   "outputs": [],
   "source": [
    "pi = 22/7"
   ]
  },
  {
   "cell_type": "code",
   "execution_count": 24,
   "id": "e6aac675-5a16-4f15-9f82-3842c6ddb1eb",
   "metadata": {},
   "outputs": [
    {
     "data": {
      "text/plain": [
       "3.142857142857143"
      ]
     },
     "execution_count": 24,
     "metadata": {},
     "output_type": "execute_result"
    }
   ],
   "source": [
    "pi"
   ]
  },
  {
   "cell_type": "code",
   "execution_count": 60,
   "id": "7fbd2aa7-7ee5-45da-bb84-da6fba2ae100",
   "metadata": {},
   "outputs": [
    {
     "name": "stdout",
     "output_type": "stream",
     "text": [
      "1000000000000000.0\n",
      "6.045e-05\n"
     ]
    }
   ],
   "source": [
    "print(1e15)\n",
    "print()"
   ]
  },
  {
   "cell_type": "code",
   "execution_count": 70,
   "id": "8e77bbf6-97b9-4701-a8c3-b63dc73c5c22",
   "metadata": {},
   "outputs": [
    {
     "data": {
      "text/plain": [
       "2756520000000000.0"
      ]
     },
     "execution_count": 70,
     "metadata": {},
     "output_type": "execute_result"
    }
   ],
   "source": [
    "456e15*(6.045e-3)"
   ]
  },
  {
   "cell_type": "code",
   "execution_count": 66,
   "id": "97868933-906e-4e65-abeb-28175b3be720",
   "metadata": {},
   "outputs": [
    {
     "data": {
      "text/plain": [
       "0.001"
      ]
     },
     "execution_count": 66,
     "metadata": {},
     "output_type": "execute_result"
    }
   ],
   "source": [
    "1e-3"
   ]
  },
  {
   "cell_type": "markdown",
   "id": "5bf2a297-b536-430f-9a70-8bc12c96754b",
   "metadata": {},
   "source": [
    "## Binary Representation in Python"
   ]
  },
  {
   "cell_type": "code",
   "execution_count": 105,
   "id": "d2c3ab79-f033-4e4c-afba-fabfaed42f17",
   "metadata": {},
   "outputs": [
    {
     "ename": "ValueError",
     "evalue": "Unknown format code 'D' for object of type 'int'",
     "output_type": "error",
     "traceback": [
      "\u001b[0;31m---------------------------------------------------------------------------\u001b[0m",
      "\u001b[0;31mValueError\u001b[0m                                Traceback (most recent call last)",
      "Cell \u001b[0;32mIn[105], line 1\u001b[0m\n\u001b[0;32m----> 1\u001b[0m \u001b[38;5;28mformat\u001b[39m(\u001b[38;5;241m65\u001b[39m, \u001b[38;5;124m'\u001b[39m\u001b[38;5;124mD\u001b[39m\u001b[38;5;124m'\u001b[39m)\n",
      "\u001b[0;31mValueError\u001b[0m: Unknown format code 'D' for object of type 'int'"
     ]
    }
   ],
   "source": [
    "format(65, 'D')"
   ]
  },
  {
   "cell_type": "code",
   "execution_count": 110,
   "id": "ab129b7b-94a8-433c-b14e-85c94f2e8ae1",
   "metadata": {},
   "outputs": [],
   "source": [
    "first = 'Hardik'\n",
    "second = 'Janenie'"
   ]
  },
  {
   "cell_type": "code",
   "execution_count": 138,
   "id": "9c5ecb8d-4787-4d5f-943f-3cae61036c4b",
   "metadata": {},
   "outputs": [
    {
     "name": "stdout",
     "output_type": "stream",
     "text": [
      "Hardik loves Janenie allot.\n"
     ]
    }
   ],
   "source": [
    "    couple = f'{first} loves {second} allot.' \n",
    "    print(couple)"
   ]
  },
  {
   "cell_type": "code",
   "execution_count": 142,
   "id": "585c4ccb-889b-4406-8aa6-84f311ee2e13",
   "metadata": {},
   "outputs": [
    {
     "data": {
      "text/plain": [
       "[1, 2, 3, 4, 5, 6, 7, 8, 9, 0]"
      ]
     },
     "execution_count": 142,
     "metadata": {},
     "output_type": "execute_result"
    }
   ],
   "source": [
    "classReg = [1,2,3,4,5,6,7,8,9,0]\n",
    "classReg"
   ]
  },
  {
   "cell_type": "code",
   "execution_count": 150,
   "id": "e0e78e4b-1fd4-4013-9615-2160d617ab02",
   "metadata": {},
   "outputs": [
    {
     "data": {
      "text/plain": [
       "True"
      ]
     },
     "execution_count": 150,
     "metadata": {},
     "output_type": "execute_result"
    }
   ],
   "source": [
    "71 not in classReg"
   ]
  },
  {
   "cell_type": "code",
   "execution_count": 158,
   "id": "8735c0bc-95a3-40db-af5c-e4f6dc889369",
   "metadata": {},
   "outputs": [
    {
     "name": "stdout",
     "output_type": "stream",
     "text": [
      "\n",
      "hardik love to learn machine learning and teach also\n",
      "but hardik loves janenie most\n",
      "\n"
     ]
    }
   ],
   "source": [
    "love = '''\n",
    "hardik love to learn machine learning and teach also\n",
    "but hardik loves janenie most\n",
    "'''\n",
    "love\n",
    "print(love)"
   ]
  },
  {
   "cell_type": "code",
   "execution_count": 160,
   "id": "a8bd5f7b-22df-4fa0-8861-f3a9277aa6eb",
   "metadata": {},
   "outputs": [],
   "source": [
    "dinner = \"my last night dinner date got expensive and i've to pay ₹5k\""
   ]
  },
  {
   "cell_type": "code",
   "execution_count": 172,
   "id": "e69b5aaa-3019-4808-b9b8-dddbf719fdc3",
   "metadata": {},
   "outputs": [],
   "source": [
    "updated_dinner = dinner.replace(\"₹5k\", \"$70\")"
   ]
  },
  {
   "cell_type": "code",
   "execution_count": 174,
   "id": "f29b1134-7569-4b8a-b402-c6c558629d3b",
   "metadata": {},
   "outputs": [
    {
     "data": {
      "text/plain": [
       "\"my last night dinner date got expensive and i've to pay ₹5k\""
      ]
     },
     "execution_count": 174,
     "metadata": {},
     "output_type": "execute_result"
    }
   ],
   "source": [
    "dinner"
   ]
  },
  {
   "cell_type": "code",
   "execution_count": 176,
   "id": "10f16efe-bd45-4c85-9dea-622ca86218a6",
   "metadata": {},
   "outputs": [
    {
     "data": {
      "text/plain": [
       "\"my last night dinner date got expensive and i've to pay $70\""
      ]
     },
     "execution_count": 176,
     "metadata": {},
     "output_type": "execute_result"
    }
   ],
   "source": [
    "updated_dinner"
   ]
  },
  {
   "cell_type": "code",
   "execution_count": 184,
   "id": "1fb9240f-478c-4220-b10b-17412dbb293a",
   "metadata": {},
   "outputs": [
    {
     "name": "stdout",
     "output_type": "stream",
     "text": [
      "['__add__', '__class__', '__contains__', '__delattr__', '__dir__', '__doc__', '__eq__', '__format__', '__ge__', '__getattribute__', '__getitem__', '__getnewargs__', '__getstate__', '__gt__', '__hash__', '__init__', '__init_subclass__', '__iter__', '__le__', '__len__', '__lt__', '__mod__', '__mul__', '__ne__', '__new__', '__reduce__', '__reduce_ex__', '__repr__', '__rmod__', '__rmul__', '__setattr__', '__sizeof__', '__str__', '__subclasshook__', 'capitalize', 'casefold', 'center', 'count', 'encode', 'endswith', 'expandtabs', 'find', 'format', 'format_map', 'index', 'isalnum', 'isalpha', 'isascii', 'isdecimal', 'isdigit', 'isidentifier', 'islower', 'isnumeric', 'isprintable', 'isspace', 'istitle', 'isupper', 'join', 'ljust', 'lower', 'lstrip', 'maketrans', 'partition', 'removeprefix', 'removesuffix', 'replace', 'rfind', 'rindex', 'rjust', 'rpartition', 'rsplit', 'rstrip', 'split', 'splitlines', 'startswith', 'strip', 'swapcase', 'title', 'translate', 'upper', 'zfill']\n"
     ]
    }
   ],
   "source": [
    "print(dir(dinner))"
   ]
  },
  {
   "cell_type": "code",
   "execution_count": 182,
   "id": "a84b41d9-94fb-4f0c-80be-fa3a72b39f64",
   "metadata": {},
   "outputs": [
    {
     "data": {
      "text/plain": [
       "\"MY LAST NIGHT DINNER DATE GOT EXPENSIVE AND I'VE TO PAY ₹5K\""
      ]
     },
     "execution_count": 182,
     "metadata": {},
     "output_type": "execute_result"
    }
   ],
   "source": [
    "dinner.upper()"
   ]
  },
  {
   "cell_type": "code",
   "execution_count": 193,
   "id": "bb113f22-eff0-4377-bb5a-1f02016c6f0a",
   "metadata": {},
   "outputs": [
    {
     "data": {
      "text/plain": [
       "'lost of space   here'"
      ]
     },
     "execution_count": 193,
     "metadata": {},
     "output_type": "execute_result"
    }
   ],
   "source": [
    "d = \"    lost of space   here  \"\n",
    "d.strip()"
   ]
  },
  {
   "cell_type": "code",
   "execution_count": 231,
   "id": "993f6c1e-8f4e-4f84-95ec-d7e729f1c39b",
   "metadata": {},
   "outputs": [
    {
     "name": "stdout",
     "output_type": "stream",
     "text": [
      "['musturd_oil', 'bread']\n"
     ]
    }
   ],
   "source": [
    "items = ['aata', 'lemon', 'honey', 'musturd_oil', 'onion', 'bread', 'egg']\n",
    "print(items[-4:-1:2])"
   ]
  },
  {
   "cell_type": "code",
   "execution_count": 233,
   "id": "79a98947-cdb6-4ae3-8394-7507390690da",
   "metadata": {},
   "outputs": [
    {
     "data": {
      "text/plain": [
       "['__add__',\n",
       " '__class__',\n",
       " '__class_getitem__',\n",
       " '__contains__',\n",
       " '__delattr__',\n",
       " '__delitem__',\n",
       " '__dir__',\n",
       " '__doc__',\n",
       " '__eq__',\n",
       " '__format__',\n",
       " '__ge__',\n",
       " '__getattribute__',\n",
       " '__getitem__',\n",
       " '__getstate__',\n",
       " '__gt__',\n",
       " '__hash__',\n",
       " '__iadd__',\n",
       " '__imul__',\n",
       " '__init__',\n",
       " '__init_subclass__',\n",
       " '__iter__',\n",
       " '__le__',\n",
       " '__len__',\n",
       " '__lt__',\n",
       " '__mul__',\n",
       " '__ne__',\n",
       " '__new__',\n",
       " '__reduce__',\n",
       " '__reduce_ex__',\n",
       " '__repr__',\n",
       " '__reversed__',\n",
       " '__rmul__',\n",
       " '__setattr__',\n",
       " '__setitem__',\n",
       " '__sizeof__',\n",
       " '__str__',\n",
       " '__subclasshook__',\n",
       " 'append',\n",
       " 'clear',\n",
       " 'copy',\n",
       " 'count',\n",
       " 'extend',\n",
       " 'index',\n",
       " 'insert',\n",
       " 'pop',\n",
       " 'remove',\n",
       " 'reverse',\n",
       " 'sort']"
      ]
     },
     "execution_count": 233,
     "metadata": {},
     "output_type": "execute_result"
    }
   ],
   "source": [
    "dir(items)"
   ]
  },
  {
   "cell_type": "code",
   "execution_count": 254,
   "id": "329dede1-63ee-4cf0-b137-971b5c04c7ae",
   "metadata": {},
   "outputs": [],
   "source": [
    "items.append('egg')\n",
    "items.count('egg')\n",
    "items.insert(-1, 'chilli')"
   ]
  },
  {
   "cell_type": "code",
   "execution_count": 274,
   "id": "2577be3f-a3c8-4967-bfdc-bc69015eb95c",
   "metadata": {},
   "outputs": [
    {
     "data": {
      "text/plain": [
       "['aata', 'bread', 'chilli', 'chilli', 'chilli', 'egg']"
      ]
     },
     "execution_count": 274,
     "metadata": {},
     "output_type": "execute_result"
    }
   ],
   "source": [
    "items.sort()\n",
    "items.pop()\n",
    "items.remove('egg')\n",
    "items"
   ]
  },
  {
   "cell_type": "code",
   "execution_count": 14,
   "id": "0084bcef-69c3-4203-8c7c-11324af61fc6",
   "metadata": {},
   "outputs": [
    {
     "name": "stdout",
     "output_type": "stream",
     "text": [
      "30142\n"
     ]
    }
   ],
   "source": [
    "expenses = [1000, 2000, 3000, 4000, 3000, 5778, 6789, 4575]\n",
    "\n",
    "sum = 0\n",
    "for expense in expenses:\n",
    "    sum += expense\n",
    "print(sum)"
   ]
  },
  {
   "cell_type": "code",
   "execution_count": 40,
   "id": "dcefe87f-b697-4fae-abbf-00af169977f0",
   "metadata": {},
   "outputs": [
    {
     "data": {
      "text/plain": [
       "[0, 109, 218, 327, 436, 545, 654, 763, 872, 981, 1090]"
      ]
     },
     "execution_count": 40,
     "metadata": {},
     "output_type": "execute_result"
    }
   ],
   "source": [
    "list(range(0, 1091, 109))"
   ]
  },
  {
   "cell_type": "code",
   "execution_count": 60,
   "id": "1a4b8c89-4311-42ba-87c6-c44866ba977a",
   "metadata": {},
   "outputs": [
    {
     "name": "stdout",
     "output_type": "stream",
     "text": [
      "0\n",
      "1\n",
      "4\n",
      "9\n",
      "16\n",
      "25\n",
      "36\n",
      "49\n",
      "64\n",
      "81\n",
      "100\n",
      "121\n",
      "144\n",
      "169\n",
      "196\n",
      "225\n",
      "256\n",
      "289\n",
      "324\n",
      "361\n"
     ]
    }
   ],
   "source": [
    "for i in range(20):\n",
    "    print(i*i)"
   ]
  },
  {
   "cell_type": "code",
   "execution_count": 82,
   "id": "0e868c82-225a-4cdc-8a4b-3d7b6ed8251f",
   "metadata": {},
   "outputs": [
    {
     "name": "stdout",
     "output_type": "stream",
     "text": [
      "0\n",
      "1000\n",
      "1\n",
      "2000\n",
      "2\n",
      "3000\n",
      "3\n",
      "4000\n",
      "4\n",
      "3000\n",
      "5\n",
      "5778\n",
      "6\n",
      "6789\n",
      "7\n",
      "4575\n"
     ]
    }
   ],
   "source": [
    "for i in range(len(expenses)):\n",
    "    print(i)\n",
    "    print(expenses[i])"
   ]
  },
  {
   "cell_type": "code",
   "execution_count": 84,
   "id": "0eb5bc82-f6e9-42ca-b3a6-661704cf3685",
   "metadata": {},
   "outputs": [
    {
     "name": "stdout",
     "output_type": "stream",
     "text": [
      "SkllBascs"
     ]
    }
   ],
   "source": [
    "for l in 'SkillBasics':\n",
    "    if l == 'i':\n",
    "        continue\n",
    "    print(l, end='')"
   ]
  },
  {
   "cell_type": "code",
   "execution_count": 86,
   "id": "2aabd305-d47e-4d19-9d57-ab4bac2bf872",
   "metadata": {},
   "outputs": [
    {
     "name": "stdout",
     "output_type": "stream",
     "text": [
      "101\n"
     ]
    }
   ],
   "source": [
    "x = -1\n",
    "while x <=99:\n",
    "  x += 2\n",
    "print(x)"
   ]
  },
  {
   "cell_type": "code",
   "execution_count": 88,
   "id": "d936ec77-236b-474b-b731-4edfacbe4c84",
   "metadata": {},
   "outputs": [
    {
     "name": "stdout",
     "output_type": "stream",
     "text": [
      "Inside fun function\n"
     ]
    }
   ],
   "source": [
    "def fun():\n",
    "    print(\"Inside fun function\")\n",
    "\n",
    "fun()"
   ]
  },
  {
   "cell_type": "code",
   "execution_count": 92,
   "id": "1930a539-b1b4-4070-8580-b4417ef411c8",
   "metadata": {},
   "outputs": [
    {
     "data": {
      "text/plain": [
       "'Inside function'"
      ]
     },
     "execution_count": 92,
     "metadata": {},
     "output_type": "execute_result"
    }
   ],
   "source": [
    "def fun():\n",
    "    return \"Inside function\"\n",
    "\n",
    "fun()"
   ]
  },
  {
   "cell_type": "code",
   "execution_count": 114,
   "id": "9cdaca74-fd03-452a-a196-9748aaa1c3bf",
   "metadata": {},
   "outputs": [
    {
     "name": "stdout",
     "output_type": "stream",
     "text": [
      "x :  90\n",
      "y :  50\n"
     ]
    }
   ],
   "source": [
    "def myfun(x = 3, y = 50):\n",
    "    print('x : ', x)\n",
    "    print('y : ', y)\n",
    "\n",
    "\n",
    "myfun(x = 90)"
   ]
  },
  {
   "cell_type": "code",
   "execution_count": 140,
   "id": "e6c79153-bef1-4011-a7a9-4d961d42e582",
   "metadata": {},
   "outputs": [
    {
     "data": {
      "text/plain": [
       "'hardik  loves  janenie'"
      ]
     },
     "execution_count": 140,
     "metadata": {},
     "output_type": "execute_result"
    }
   ],
   "source": [
    "def name(firstname, lastname):\n",
    "    return f'{firstname}  loves  {lastname}'\n",
    "\n",
    "name('hardik', 'janenie')\n",
    "# name('manas', 'aayush')"
   ]
  },
  {
   "cell_type": "code",
   "execution_count": 148,
   "id": "a7e5f369-466a-44b2-b283-bf37207af593",
   "metadata": {},
   "outputs": [
    {
     "name": "stdout",
     "output_type": "stream",
     "text": [
      "Hardik\n",
      "Loves\n",
      "Janenie\n",
      "hardik 'hate' manas\n"
     ]
    }
   ],
   "source": [
    "def myfun1 (*argv):\n",
    "    for arg in argv:\n",
    "        print(arg)\n",
    "\n",
    "myfun1('Hardik', 'Loves', 'Janenie')\n",
    "myfun1(\"hardik 'hate' manas\")"
   ]
  },
  {
   "cell_type": "code",
   "execution_count": 156,
   "id": "21f33767-de43-44de-b6ae-a5990d6b3d29",
   "metadata": {},
   "outputs": [
    {
     "data": {
      "text/plain": [
       "27"
      ]
     },
     "execution_count": 156,
     "metadata": {},
     "output_type": "execute_result"
    }
   ],
   "source": [
    "cube = lambda y : y*y*y\n",
    "\n",
    "cube(3)"
   ]
  },
  {
   "cell_type": "code",
   "execution_count": 158,
   "id": "18a3125a-1996-4ac3-a4f4-90edb8552838",
   "metadata": {},
   "outputs": [
    {
     "data": {
      "text/plain": [
       "1000"
      ]
     },
     "execution_count": 158,
     "metadata": {},
     "output_type": "execute_result"
    }
   ],
   "source": [
    "def cube(x):\n",
    "    return x*x*x\n",
    "\n",
    "cube(10)"
   ]
  },
  {
   "cell_type": "code",
   "execution_count": 160,
   "id": "52d45302-a6a1-4640-97a8-6ed79f52f66f",
   "metadata": {},
   "outputs": [
    {
     "name": "stdout",
     "output_type": "stream",
     "text": [
      "[1, 4, 9, 16, 25]\n"
     ]
    }
   ],
   "source": [
    "numbers = [1, 2, 3, 4, 5]\n",
    "squared_numbers = list(map(lambda x: x ** 2, numbers))\n",
    "\n",
    "print(squared_numbers)  # Output: [1, 4, 9, 16, 25]"
   ]
  },
  {
   "cell_type": "code",
   "execution_count": 164,
   "id": "61a27a5f-23d5-439a-b7e7-caf42fdf311c",
   "metadata": {},
   "outputs": [
    {
     "name": "stdout",
     "output_type": "stream",
     "text": [
      "['HARDIK', 'JANENIE', 'RANU', 'ADHITYA']\n"
     ]
    }
   ],
   "source": [
    "name = ['hardik', 'Janenie', 'Ranu', 'Adhitya']\n",
    "\n",
    "uppercase = list(map(lambda x: x.upper(), name))\n",
    "print(uppercase)"
   ]
  },
  {
   "cell_type": "code",
   "execution_count": 166,
   "id": "aee59d3d-2b95-453e-8869-0b3205af4a0f",
   "metadata": {},
   "outputs": [
    {
     "name": "stdout",
     "output_type": "stream",
     "text": [
      "None\n"
     ]
    }
   ],
   "source": [
    "def no_return_function():\n",
    "    x = 10\n",
    "    y = 20\n",
    "    result = x + y\n",
    "    # No return statement here\n",
    "\n",
    "# Calling the function\n",
    "output = no_return_function()\n",
    "print(output)  # Output: None\n"
   ]
  },
  {
   "cell_type": "code",
   "execution_count": 168,
   "id": "53528c5b-7da6-49b0-974d-7a049f0756f1",
   "metadata": {},
   "outputs": [
    {
     "data": {
      "text/plain": [
       "['__class__',\n",
       " '__class_getitem__',\n",
       " '__contains__',\n",
       " '__delattr__',\n",
       " '__delitem__',\n",
       " '__dir__',\n",
       " '__doc__',\n",
       " '__eq__',\n",
       " '__format__',\n",
       " '__ge__',\n",
       " '__getattribute__',\n",
       " '__getitem__',\n",
       " '__getstate__',\n",
       " '__gt__',\n",
       " '__hash__',\n",
       " '__init__',\n",
       " '__init_subclass__',\n",
       " '__ior__',\n",
       " '__iter__',\n",
       " '__le__',\n",
       " '__len__',\n",
       " '__lt__',\n",
       " '__ne__',\n",
       " '__new__',\n",
       " '__or__',\n",
       " '__reduce__',\n",
       " '__reduce_ex__',\n",
       " '__repr__',\n",
       " '__reversed__',\n",
       " '__ror__',\n",
       " '__setattr__',\n",
       " '__setitem__',\n",
       " '__sizeof__',\n",
       " '__str__',\n",
       " '__subclasshook__',\n",
       " 'clear',\n",
       " 'copy',\n",
       " 'fromkeys',\n",
       " 'get',\n",
       " 'items',\n",
       " 'keys',\n",
       " 'pop',\n",
       " 'popitem',\n",
       " 'setdefault',\n",
       " 'update',\n",
       " 'values']"
      ]
     },
     "execution_count": 168,
     "metadata": {},
     "output_type": "execute_result"
    }
   ],
   "source": [
    "d = {\n",
    "    'hardik' : 8888,\n",
    "    'manas' : 3333,\n",
    "    'aayush' : 1111,\n",
    "    'gaurav' : 9999\n",
    "}\n",
    "\n",
    "dir(d)"
   ]
  },
  {
   "cell_type": "code",
   "execution_count": 174,
   "id": "1543cf5c-4e3d-4caf-9705-dfe9d3c375f3",
   "metadata": {},
   "outputs": [
    {
     "ename": "TypeError",
     "evalue": "update expected at most 1 argument, got 2",
     "output_type": "error",
     "traceback": [
      "\u001b[0;31m---------------------------------------------------------------------------\u001b[0m",
      "\u001b[0;31mTypeError\u001b[0m                                 Traceback (most recent call last)",
      "Cell \u001b[0;32mIn[174], line 2\u001b[0m\n\u001b[1;32m      1\u001b[0m d\u001b[38;5;241m.\u001b[39mget(\u001b[38;5;124m\"\u001b[39m\u001b[38;5;124mhardik\u001b[39m\u001b[38;5;124m\"\u001b[39m)\n\u001b[0;32m----> 2\u001b[0m d\u001b[38;5;241m.\u001b[39mupdate(\u001b[38;5;124m'\u001b[39m\u001b[38;5;124mhardik\u001b[39m\u001b[38;5;124m'\u001b[39m, \u001b[38;5;241m1111\u001b[39m)\n",
      "\u001b[0;31mTypeError\u001b[0m: update expected at most 1 argument, got 2"
     ]
    }
   ],
   "source": [
    "d.get(\"hardik\")\n",
    "d.update('hardik', 1111)"
   ]
  },
  {
   "cell_type": "code",
   "execution_count": 2,
   "id": "0a3d46a2-de14-4c02-9e91-e95e6003aa12",
   "metadata": {},
   "outputs": [],
   "source": [
    "import math"
   ]
  },
  {
   "cell_type": "code",
   "execution_count": 4,
   "id": "548141cf-326b-4c1d-8067-492abc6a3574",
   "metadata": {},
   "outputs": [
    {
     "data": {
      "text/plain": [
       "['__doc__',\n",
       " '__file__',\n",
       " '__loader__',\n",
       " '__name__',\n",
       " '__package__',\n",
       " '__spec__',\n",
       " 'acos',\n",
       " 'acosh',\n",
       " 'asin',\n",
       " 'asinh',\n",
       " 'atan',\n",
       " 'atan2',\n",
       " 'atanh',\n",
       " 'cbrt',\n",
       " 'ceil',\n",
       " 'comb',\n",
       " 'copysign',\n",
       " 'cos',\n",
       " 'cosh',\n",
       " 'degrees',\n",
       " 'dist',\n",
       " 'e',\n",
       " 'erf',\n",
       " 'erfc',\n",
       " 'exp',\n",
       " 'exp2',\n",
       " 'expm1',\n",
       " 'fabs',\n",
       " 'factorial',\n",
       " 'floor',\n",
       " 'fmod',\n",
       " 'frexp',\n",
       " 'fsum',\n",
       " 'gamma',\n",
       " 'gcd',\n",
       " 'hypot',\n",
       " 'inf',\n",
       " 'isclose',\n",
       " 'isfinite',\n",
       " 'isinf',\n",
       " 'isnan',\n",
       " 'isqrt',\n",
       " 'lcm',\n",
       " 'ldexp',\n",
       " 'lgamma',\n",
       " 'log',\n",
       " 'log10',\n",
       " 'log1p',\n",
       " 'log2',\n",
       " 'modf',\n",
       " 'nan',\n",
       " 'nextafter',\n",
       " 'perm',\n",
       " 'pi',\n",
       " 'pow',\n",
       " 'prod',\n",
       " 'radians',\n",
       " 'remainder',\n",
       " 'sin',\n",
       " 'sinh',\n",
       " 'sqrt',\n",
       " 'sumprod',\n",
       " 'tan',\n",
       " 'tanh',\n",
       " 'tau',\n",
       " 'trunc',\n",
       " 'ulp']"
      ]
     },
     "execution_count": 4,
     "metadata": {},
     "output_type": "execute_result"
    }
   ],
   "source": [
    "dir(math)"
   ]
  },
  {
   "cell_type": "code",
   "execution_count": 8,
   "id": "2611edaf-1f71-4f1e-8523-6479dff19af8",
   "metadata": {},
   "outputs": [
    {
     "data": {
      "text/plain": [
       "22.135943621178654"
      ]
     },
     "execution_count": 8,
     "metadata": {},
     "output_type": "execute_result"
    }
   ],
   "source": [
    "math.sqrt(490)"
   ]
  },
  {
   "cell_type": "code",
   "execution_count": 10,
   "id": "ea5fa8bd-cf67-4f89-8c9d-2083d2194572",
   "metadata": {},
   "outputs": [
    {
     "data": {
      "text/plain": [
       "5.790069956312238e-13"
      ]
     },
     "execution_count": 10,
     "metadata": {},
     "output_type": "execute_result"
    }
   ],
   "source": [
    "math.pow(56, -7)"
   ]
  },
  {
   "cell_type": "code",
   "execution_count": 14,
   "id": "dc8dc25f-01c6-44dd-bcfd-b400aa6356e6",
   "metadata": {},
   "outputs": [
    {
     "data": {
      "text/plain": [
       "3.141592653589793"
      ]
     },
     "execution_count": 14,
     "metadata": {},
     "output_type": "execute_result"
    }
   ],
   "source": [
    "math.pi"
   ]
  },
  {
   "cell_type": "code",
   "execution_count": 16,
   "id": "bb0b8fa7-bad1-48c9-b63a-1de2bae2abf7",
   "metadata": {},
   "outputs": [],
   "source": [
    "import pandas as pd"
   ]
  },
  {
   "cell_type": "code",
   "execution_count": 18,
   "id": "334a69c1-1523-4fd6-beb7-d5c4e55eed18",
   "metadata": {},
   "outputs": [
    {
     "data": {
      "text/plain": [
       "['ArrowDtype',\n",
       " 'BooleanDtype',\n",
       " 'Categorical',\n",
       " 'CategoricalDtype',\n",
       " 'CategoricalIndex',\n",
       " 'DataFrame',\n",
       " 'DateOffset',\n",
       " 'DatetimeIndex',\n",
       " 'DatetimeTZDtype',\n",
       " 'ExcelFile',\n",
       " 'ExcelWriter',\n",
       " 'Flags',\n",
       " 'Float32Dtype',\n",
       " 'Float64Dtype',\n",
       " 'Grouper',\n",
       " 'HDFStore',\n",
       " 'Index',\n",
       " 'IndexSlice',\n",
       " 'Int16Dtype',\n",
       " 'Int32Dtype',\n",
       " 'Int64Dtype',\n",
       " 'Int8Dtype',\n",
       " 'Interval',\n",
       " 'IntervalDtype',\n",
       " 'IntervalIndex',\n",
       " 'MultiIndex',\n",
       " 'NA',\n",
       " 'NaT',\n",
       " 'NamedAgg',\n",
       " 'Period',\n",
       " 'PeriodDtype',\n",
       " 'PeriodIndex',\n",
       " 'RangeIndex',\n",
       " 'Series',\n",
       " 'SparseDtype',\n",
       " 'StringDtype',\n",
       " 'Timedelta',\n",
       " 'TimedeltaIndex',\n",
       " 'Timestamp',\n",
       " 'UInt16Dtype',\n",
       " 'UInt32Dtype',\n",
       " 'UInt64Dtype',\n",
       " 'UInt8Dtype',\n",
       " '__all__',\n",
       " '__builtins__',\n",
       " '__cached__',\n",
       " '__doc__',\n",
       " '__docformat__',\n",
       " '__file__',\n",
       " '__git_version__',\n",
       " '__loader__',\n",
       " '__name__',\n",
       " '__package__',\n",
       " '__path__',\n",
       " '__spec__',\n",
       " '__version__',\n",
       " '_built_with_meson',\n",
       " '_config',\n",
       " '_is_numpy_dev',\n",
       " '_libs',\n",
       " '_pandas_datetime_CAPI',\n",
       " '_pandas_parser_CAPI',\n",
       " '_testing',\n",
       " '_typing',\n",
       " '_version_meson',\n",
       " 'annotations',\n",
       " 'api',\n",
       " 'array',\n",
       " 'arrays',\n",
       " 'bdate_range',\n",
       " 'compat',\n",
       " 'concat',\n",
       " 'core',\n",
       " 'crosstab',\n",
       " 'cut',\n",
       " 'date_range',\n",
       " 'describe_option',\n",
       " 'errors',\n",
       " 'eval',\n",
       " 'factorize',\n",
       " 'from_dummies',\n",
       " 'get_dummies',\n",
       " 'get_option',\n",
       " 'infer_freq',\n",
       " 'interval_range',\n",
       " 'io',\n",
       " 'isna',\n",
       " 'isnull',\n",
       " 'json_normalize',\n",
       " 'lreshape',\n",
       " 'melt',\n",
       " 'merge',\n",
       " 'merge_asof',\n",
       " 'merge_ordered',\n",
       " 'notna',\n",
       " 'notnull',\n",
       " 'offsets',\n",
       " 'option_context',\n",
       " 'options',\n",
       " 'pandas',\n",
       " 'period_range',\n",
       " 'pivot',\n",
       " 'pivot_table',\n",
       " 'plotting',\n",
       " 'qcut',\n",
       " 'read_clipboard',\n",
       " 'read_csv',\n",
       " 'read_excel',\n",
       " 'read_feather',\n",
       " 'read_fwf',\n",
       " 'read_gbq',\n",
       " 'read_hdf',\n",
       " 'read_html',\n",
       " 'read_json',\n",
       " 'read_orc',\n",
       " 'read_parquet',\n",
       " 'read_pickle',\n",
       " 'read_sas',\n",
       " 'read_spss',\n",
       " 'read_sql',\n",
       " 'read_sql_query',\n",
       " 'read_sql_table',\n",
       " 'read_stata',\n",
       " 'read_table',\n",
       " 'read_xml',\n",
       " 'reset_option',\n",
       " 'set_eng_float_format',\n",
       " 'set_option',\n",
       " 'show_versions',\n",
       " 'test',\n",
       " 'testing',\n",
       " 'timedelta_range',\n",
       " 'to_datetime',\n",
       " 'to_numeric',\n",
       " 'to_pickle',\n",
       " 'to_timedelta',\n",
       " 'tseries',\n",
       " 'unique',\n",
       " 'util',\n",
       " 'value_counts',\n",
       " 'wide_to_long']"
      ]
     },
     "execution_count": 18,
     "metadata": {},
     "output_type": "execute_result"
    }
   ],
   "source": [
    "dir(pd)"
   ]
  },
  {
   "cell_type": "code",
   "execution_count": 28,
   "id": "d788dc86-23fb-4be9-b5fb-080087eee10e",
   "metadata": {},
   "outputs": [
    {
     "data": {
      "text/plain": [
       "<function pandas.core.reshape.pivot.pivot(data: 'DataFrame', *, columns: 'IndexLabel', index: 'IndexLabel | lib.NoDefault' = <no_default>, values: 'IndexLabel | lib.NoDefault' = <no_default>) -> 'DataFrame'>"
      ]
     },
     "execution_count": 28,
     "metadata": {},
     "output_type": "execute_result"
    }
   ],
   "source": [
    "pd.pivot"
   ]
  },
  {
   "cell_type": "code",
   "execution_count": 30,
   "id": "088142db-a76f-4080-a572-be77b939401e",
   "metadata": {},
   "outputs": [
    {
     "name": "stdout",
     "output_type": "stream",
     "text": [
      "Collecting pyroids\n",
      "  Downloading pyroids-0.9.0-py3-none-any.whl.metadata (5.5 kB)\n",
      "Collecting pyglet>=1.4 (from pyroids)\n",
      "  Downloading pyglet-2.0.16-py3-none-any.whl.metadata (7.9 kB)\n",
      "Downloading pyroids-0.9.0-py3-none-any.whl (7.3 MB)\n",
      "\u001b[2K   \u001b[90m━━━━━━━━━━━━━━━━━━━━━━━━━━━━━━━━━━━━━━━━\u001b[0m \u001b[32m7.3/7.3 MB\u001b[0m \u001b[31m4.0 MB/s\u001b[0m eta \u001b[36m0:00:00\u001b[0m00:01\u001b[0m00:01\u001b[0m\n",
      "\u001b[?25hDownloading pyglet-2.0.16-py3-none-any.whl (929 kB)\n",
      "\u001b[2K   \u001b[90m━━━━━━━━━━━━━━━━━━━━━━━━━━━━━━━━━━━━━━━━\u001b[0m \u001b[32m929.1/929.1 kB\u001b[0m \u001b[31m4.4 MB/s\u001b[0m eta \u001b[36m0:00:00\u001b[0ma \u001b[36m0:00:01\u001b[0m\n",
      "\u001b[?25hInstalling collected packages: pyglet, pyroids\n",
      "Successfully installed pyglet-2.0.16 pyroids-0.9.0\n"
     ]
    }
   ],
   "source": [
    "!pip install pyroids"
   ]
  },
  {
   "cell_type": "code",
   "execution_count": 34,
   "id": "01055d79-143b-44cb-8a65-64e3baf80cec",
   "metadata": {},
   "outputs": [
    {
     "data": {
      "text/plain": [
       "['CONFIG_PATH',\n",
       " 'List',\n",
       " 'Optional',\n",
       " 'Path',\n",
       " '__author__',\n",
       " '__builtins__',\n",
       " '__cached__',\n",
       " '__doc__',\n",
       " '__email__',\n",
       " '__file__',\n",
       " '__loader__',\n",
       " '__name__',\n",
       " '__package__',\n",
       " '__path__',\n",
       " '__spec__',\n",
       " '_config_import',\n",
       " '_set_config_path',\n",
       " 'dir_path',\n",
       " 'importlib',\n",
       " 'launch',\n",
       " 'os',\n",
       " 'pyglet']"
      ]
     },
     "execution_count": 34,
     "metadata": {},
     "output_type": "execute_result"
    }
   ],
   "source": [
    "import pyroids\n",
    "dir(pyroids)"
   ]
  },
  {
   "cell_type": "code",
   "execution_count": 38,
   "id": "de5eecda-ece6-42c6-a053-22d9af0d3d66",
   "metadata": {},
   "outputs": [
    {
     "name": "stderr",
     "output_type": "stream",
     "text": [
      "/opt/anaconda3/lib/python3.12/site-packages/pyroids/__init__.py:3: SyntaxWarning: invalid escape sequence '\\c'\n",
      "  \"\"\"pyroids.\n",
      "/opt/anaconda3/lib/python3.12/site-packages/pyroids/__init__.py:84: SyntaxWarning: invalid escape sequence '\\c'\n",
      "  \"\"\"Launch application.\n",
      "/opt/anaconda3/lib/python3.12/site-packages/pyroids/labels.py:395: SyntaxWarning: \"is\" with 'int' literal. Did you mean \"==\"?\n",
      "  sep = '' if i is 0 else ', '\n",
      "/opt/anaconda3/lib/python3.12/site-packages/pyroids/labels.py:683: SyntaxWarning: \"is\" with 'int' literal. Did you mean \"==\"?\n",
      "  if stock is 0:\n",
      "/opt/anaconda3/lib/python3.12/site-packages/pyroids/labels.py:774: SyntaxWarning: \"is not\" with 'int' literal. Did you mean \"!=\"?\n",
      "  if sep is not 0:\n",
      "/opt/anaconda3/lib/python3.12/site-packages/pyroids/labels.py:395: SyntaxWarning: \"is\" with 'int' literal. Did you mean \"==\"?\n",
      "  sep = '' if i is 0 else ', '\n",
      "/opt/anaconda3/lib/python3.12/site-packages/pyroids/labels.py:683: SyntaxWarning: \"is\" with 'int' literal. Did you mean \"==\"?\n",
      "  if stock is 0:\n",
      "/opt/anaconda3/lib/python3.12/site-packages/pyroids/labels.py:774: SyntaxWarning: \"is not\" with 'int' literal. Did you mean \"!=\"?\n",
      "  if sep is not 0:\n",
      "/opt/anaconda3/lib/python3.12/site-packages/pyroids/labels.py:395: SyntaxWarning: \"is\" with 'int' literal. Did you mean \"==\"?\n",
      "  sep = '' if i is 0 else ', '\n",
      "/opt/anaconda3/lib/python3.12/site-packages/pyroids/labels.py:683: SyntaxWarning: \"is\" with 'int' literal. Did you mean \"==\"?\n",
      "  if stock is 0:\n",
      "/opt/anaconda3/lib/python3.12/site-packages/pyroids/labels.py:774: SyntaxWarning: \"is not\" with 'int' literal. Did you mean \"!=\"?\n",
      "  if sep is not 0:\n",
      "/opt/anaconda3/lib/python3.12/site-packages/pyroids/labels.py:395: SyntaxWarning: \"is\" with 'int' literal. Did you mean \"==\"?\n",
      "  sep = '' if i is 0 else ', '\n",
      "/opt/anaconda3/lib/python3.12/site-packages/pyroids/labels.py:683: SyntaxWarning: \"is\" with 'int' literal. Did you mean \"==\"?\n",
      "  if stock is 0:\n",
      "/opt/anaconda3/lib/python3.12/site-packages/pyroids/labels.py:774: SyntaxWarning: \"is not\" with 'int' literal. Did you mean \"!=\"?\n",
      "  if sep is not 0:\n"
     ]
    },
    {
     "ename": "AttributeError",
     "evalue": "module 'pyglet.graphics' has no attribute 'OrderedGroup'",
     "output_type": "error",
     "traceback": [
      "\u001b[0;31m---------------------------------------------------------------------------\u001b[0m",
      "\u001b[0;31mAttributeError\u001b[0m                            Traceback (most recent call last)",
      "Cell \u001b[0;32mIn[38], line 1\u001b[0m\n\u001b[0;32m----> 1\u001b[0m pyroids\u001b[38;5;241m.\u001b[39mlaunch()\n",
      "File \u001b[0;32m/opt/anaconda3/lib/python3.12/site-packages/pyroids/__init__.py:95\u001b[0m, in \u001b[0;36mlaunch\u001b[0;34m(config_file)\u001b[0m\n\u001b[1;32m     84\u001b[0m \u001b[38;5;250m\u001b[39m\u001b[38;5;124;03m\"\"\"Launch application.\u001b[39;00m\n\u001b[1;32m     85\u001b[0m \u001b[38;5;124;03m\u001b[39;00m\n\u001b[1;32m     86\u001b[0m \u001b[38;5;124;03m+config_file+  Name of configuration file to apply (configuration file \u001b[39;00m\n\u001b[0;32m   (...)\u001b[0m\n\u001b[1;32m     92\u001b[0m \u001b[38;5;124;03mfiles.\u001b[39;00m\n\u001b[1;32m     93\u001b[0m \u001b[38;5;124;03m\"\"\"\u001b[39;00m\n\u001b[1;32m     94\u001b[0m _set_config_path(config_file)\n\u001b[0;32m---> 95\u001b[0m \u001b[38;5;28;01mfrom\u001b[39;00m \u001b[38;5;21;01mpyroids\u001b[39;00m \u001b[38;5;28;01mimport\u001b[39;00m game\n\u001b[1;32m     96\u001b[0m game_window \u001b[38;5;241m=\u001b[39m game\u001b[38;5;241m.\u001b[39mGame()\n\u001b[1;32m     97\u001b[0m \u001b[38;5;28;01mreturn\u001b[39;00m pyglet\u001b[38;5;241m.\u001b[39mapp\u001b[38;5;241m.\u001b[39mrun()\n",
      "File \u001b[0;32m/opt/anaconda3/lib/python3.12/site-packages/pyroids/game.py:48\u001b[0m\n\u001b[1;32m     45\u001b[0m \u001b[38;5;28;01mfrom\u001b[39;00m \u001b[38;5;21;01m.\u001b[39;00m\u001b[38;5;21;01mlib\u001b[39;00m\u001b[38;5;21;01m.\u001b[39;00m\u001b[38;5;21;01mpyglet_lib\u001b[39;00m\u001b[38;5;21;01m.\u001b[39;00m\u001b[38;5;21;01msprite_ext\u001b[39;00m \u001b[38;5;28;01mimport\u001b[39;00m (PhysicalSprite, SpriteAdv, \n\u001b[1;32m     46\u001b[0m                                         AvoidRect, InRect, load_image)\n\u001b[1;32m     47\u001b[0m \u001b[38;5;28;01mfrom\u001b[39;00m \u001b[38;5;21;01m.\u001b[39;00m\u001b[38;5;21;01mlib\u001b[39;00m\u001b[38;5;21;01m.\u001b[39;00m\u001b[38;5;21;01mpyglet_lib\u001b[39;00m\u001b[38;5;21;01m.\u001b[39;00m\u001b[38;5;21;01mdrawing\u001b[39;00m \u001b[38;5;28;01mimport\u001b[39;00m AngledGrid, Rectangle, DrawingBase\n\u001b[0;32m---> 48\u001b[0m \u001b[38;5;28;01mfrom\u001b[39;00m \u001b[38;5;21;01m.\u001b[39;00m\u001b[38;5;21;01mgame_objects\u001b[39;00m \u001b[38;5;28;01mimport\u001b[39;00m (Ship, ShipRed, ControlSystem, Asteroid, \n\u001b[1;32m     49\u001b[0m                            AmmoClasses, Bullet, Mine, Starburst, \n\u001b[1;32m     50\u001b[0m                            PickUp, PickUpRed)\n\u001b[1;32m     51\u001b[0m \u001b[38;5;28;01mfrom\u001b[39;00m \u001b[38;5;21;01m.\u001b[39;00m\u001b[38;5;21;01mlabels\u001b[39;00m \u001b[38;5;28;01mimport\u001b[39;00m (StartLabels, NextLevelLabel, LevelLabel, EndLabels,\n\u001b[1;32m     52\u001b[0m                      InstructionLabels, StockLabel, InfoRow)\n\u001b[1;32m     53\u001b[0m \u001b[38;5;28;01mfrom\u001b[39;00m \u001b[38;5;21;01m.\u001b[39;00m\u001b[38;5;21;01mlib\u001b[39;00m\u001b[38;5;21;01m.\u001b[39;00m\u001b[38;5;21;01miter_util\u001b[39;00m \u001b[38;5;28;01mimport\u001b[39;00m (increment_last, factor_last, \n\u001b[1;32m     54\u001b[0m                             repeat_sequence, repeat_last)\n",
      "File \u001b[0;32m/opt/anaconda3/lib/python3.12/site-packages/pyroids/game_objects.py:105\u001b[0m\n\u001b[1;32m    102\u001b[0m \u001b[38;5;28;01mfrom\u001b[39;00m \u001b[38;5;21;01mpyglet\u001b[39;00m\u001b[38;5;21;01m.\u001b[39;00m\u001b[38;5;21;01mimage\u001b[39;00m \u001b[38;5;28;01mimport\u001b[39;00m Animation, Texture\n\u001b[1;32m    103\u001b[0m \u001b[38;5;28;01mfrom\u001b[39;00m \u001b[38;5;21;01mpyglet\u001b[39;00m\u001b[38;5;21;01m.\u001b[39;00m\u001b[38;5;21;01mmedia\u001b[39;00m \u001b[38;5;28;01mimport\u001b[39;00m StaticSource\n\u001b[0;32m--> 105\u001b[0m \u001b[38;5;28;01mfrom\u001b[39;00m \u001b[38;5;21;01m.\u001b[39;00m\u001b[38;5;21;01mlabels\u001b[39;00m \u001b[38;5;28;01mimport\u001b[39;00m StockLabel\n\u001b[1;32m    106\u001b[0m \u001b[38;5;28;01mfrom\u001b[39;00m \u001b[38;5;21;01m.\u001b[39;00m\u001b[38;5;21;01mlib\u001b[39;00m\u001b[38;5;21;01m.\u001b[39;00m\u001b[38;5;21;01mpyglet_lib\u001b[39;00m\u001b[38;5;21;01m.\u001b[39;00m\u001b[38;5;21;01msprite_ext\u001b[39;00m \u001b[38;5;28;01mimport\u001b[39;00m (PhysicalSprite, \n\u001b[1;32m    107\u001b[0m                                         PhysicalSpriteInteractive,\n\u001b[1;32m    108\u001b[0m                                         OneShotAnimatedSprite, \n\u001b[1;32m    109\u001b[0m                                         load_image, load_image_sequence,\n\u001b[1;32m    110\u001b[0m                                         anim, vector_anchor_to_rotated_point, \n\u001b[1;32m    111\u001b[0m                                         InRect)\n\u001b[1;32m    112\u001b[0m \u001b[38;5;28;01mfrom\u001b[39;00m \u001b[38;5;21;01m.\u001b[39;00m\u001b[38;5;21;01mlib\u001b[39;00m\u001b[38;5;21;01m.\u001b[39;00m\u001b[38;5;21;01mpyglet_lib\u001b[39;00m\u001b[38;5;21;01m.\u001b[39;00m\u001b[38;5;21;01maudio_ext\u001b[39;00m \u001b[38;5;28;01mimport\u001b[39;00m (StaticSourceMixin, \n\u001b[1;32m    113\u001b[0m                                        StaticSourceClassMixin, \n\u001b[1;32m    114\u001b[0m                                        load_static_sound)\n",
      "File \u001b[0;32m/opt/anaconda3/lib/python3.12/site-packages/pyroids/labels.py:314\u001b[0m\n\u001b[1;32m    311\u001b[0m         \u001b[38;5;28mself\u001b[39m\u001b[38;5;241m.\u001b[39m_set_sub2(completed)\n\u001b[1;32m    312\u001b[0m         \u001b[38;5;28mself\u001b[39m\u001b[38;5;241m.\u001b[39m_set_winner_label(winner)\n\u001b[0;32m--> 314\u001b[0m \u001b[38;5;28;01mclass\u001b[39;00m \u001b[38;5;21;01mInstructionLabels\u001b[39;00m(WindowLabels):\n\u001b[1;32m    315\u001b[0m \u001b[38;5;250m    \u001b[39m\u001b[38;5;124;03m\"\"\"Labels that collectively offer instructions including key controls.\u001b[39;00m\n\u001b[1;32m    316\u001b[0m \n\u001b[1;32m    317\u001b[0m \u001b[38;5;124;03m    General arrangement:\u001b[39;00m\n\u001b[0;32m   (...)\u001b[0m\n\u001b[1;32m    330\u001b[0m \u001b[38;5;124;03m    --set_labels()-- Set label for either paused or main menu mode.\u001b[39;00m\n\u001b[1;32m    331\u001b[0m \u001b[38;5;124;03m    \"\"\"\u001b[39;00m\n\u001b[1;32m    333\u001b[0m     \u001b[38;5;28;01mclass\u001b[39;00m \u001b[38;5;21;01mBGGroup\u001b[39;00m(pyglet\u001b[38;5;241m.\u001b[39mgraphics\u001b[38;5;241m.\u001b[39mOrderedGroup):\n",
      "File \u001b[0;32m/opt/anaconda3/lib/python3.12/site-packages/pyroids/labels.py:333\u001b[0m, in \u001b[0;36mInstructionLabels\u001b[0;34m()\u001b[0m\n\u001b[1;32m    314\u001b[0m \u001b[38;5;28;01mclass\u001b[39;00m \u001b[38;5;21;01mInstructionLabels\u001b[39;00m(WindowLabels):\n\u001b[1;32m    315\u001b[0m \u001b[38;5;250m    \u001b[39m\u001b[38;5;124;03m\"\"\"Labels that collectively offer instructions including key controls.\u001b[39;00m\n\u001b[1;32m    316\u001b[0m \n\u001b[1;32m    317\u001b[0m \u001b[38;5;124;03m    General arrangement:\u001b[39;00m\n\u001b[0;32m   (...)\u001b[0m\n\u001b[1;32m    330\u001b[0m \u001b[38;5;124;03m    --set_labels()-- Set label for either paused or main menu mode.\u001b[39;00m\n\u001b[1;32m    331\u001b[0m \u001b[38;5;124;03m    \"\"\"\u001b[39;00m\n\u001b[0;32m--> 333\u001b[0m     \u001b[38;5;28;01mclass\u001b[39;00m \u001b[38;5;21;01mBGGroup\u001b[39;00m(pyglet\u001b[38;5;241m.\u001b[39mgraphics\u001b[38;5;241m.\u001b[39mOrderedGroup):\n\u001b[1;32m    334\u001b[0m         \u001b[38;5;28;01mdef\u001b[39;00m \u001b[38;5;21m__init__\u001b[39m(\u001b[38;5;28mself\u001b[39m):\n\u001b[1;32m    335\u001b[0m             \u001b[38;5;28msuper\u001b[39m()\u001b[38;5;241m.\u001b[39m\u001b[38;5;21m__init__\u001b[39m(\u001b[38;5;241m0\u001b[39m)\n",
      "\u001b[0;31mAttributeError\u001b[0m: module 'pyglet.graphics' has no attribute 'OrderedGroup'"
     ]
    }
   ],
   "source": [
    "pyroids.launch()"
   ]
  },
  {
   "cell_type": "code",
   "execution_count": 44,
   "id": "84330aa3-0ae4-489b-b86b-4253ef3c9543",
   "metadata": {},
   "outputs": [],
   "source": [
    "f = open(\"funny.txt\", 'w')"
   ]
  },
  {
   "cell_type": "code",
   "execution_count": 42,
   "id": "3560d4f9-10ef-4c44-b89b-7808c03007be",
   "metadata": {},
   "outputs": [
    {
     "name": "stdout",
     "output_type": "stream",
     "text": [
      "hi hardik, this shanu\n",
      "\n",
      "hardik is the main name of shanu\n",
      "\n",
      "fathers name of hardik is bhupesh\n",
      "\n",
      "mothers name of hardik is lata\n",
      "\n",
      "hardik lives in chennai\n",
      "\n",
      "u can contact hardik on its mail id = hardikchhipa28@gmail.com\n",
      "\n",
      "hardik chhipa\n",
      "\n"
     ]
    }
   ],
   "source": [
    "for line in f:\n",
    "    print(line)\n",
    "\n",
    "f.close()"
   ]
  },
  {
   "cell_type": "code",
   "execution_count": 46,
   "id": "dcdc9a8c-b0d8-43dd-8a62-485ecf0dca75",
   "metadata": {},
   "outputs": [
    {
     "data": {
      "text/plain": [
       "['_CHUNK_SIZE',\n",
       " '__class__',\n",
       " '__del__',\n",
       " '__delattr__',\n",
       " '__dict__',\n",
       " '__dir__',\n",
       " '__doc__',\n",
       " '__enter__',\n",
       " '__eq__',\n",
       " '__exit__',\n",
       " '__format__',\n",
       " '__ge__',\n",
       " '__getattribute__',\n",
       " '__getstate__',\n",
       " '__gt__',\n",
       " '__hash__',\n",
       " '__init__',\n",
       " '__init_subclass__',\n",
       " '__iter__',\n",
       " '__le__',\n",
       " '__lt__',\n",
       " '__module__',\n",
       " '__ne__',\n",
       " '__new__',\n",
       " '__next__',\n",
       " '__reduce__',\n",
       " '__reduce_ex__',\n",
       " '__repr__',\n",
       " '__setattr__',\n",
       " '__sizeof__',\n",
       " '__str__',\n",
       " '__subclasshook__',\n",
       " '_checkClosed',\n",
       " '_checkReadable',\n",
       " '_checkSeekable',\n",
       " '_checkWritable',\n",
       " '_finalizing',\n",
       " 'buffer',\n",
       " 'close',\n",
       " 'closed',\n",
       " 'detach',\n",
       " 'encoding',\n",
       " 'errors',\n",
       " 'fileno',\n",
       " 'flush',\n",
       " 'isatty',\n",
       " 'line_buffering',\n",
       " 'mode',\n",
       " 'name',\n",
       " 'newlines',\n",
       " 'read',\n",
       " 'readable',\n",
       " 'readline',\n",
       " 'readlines',\n",
       " 'reconfigure',\n",
       " 'seek',\n",
       " 'seekable',\n",
       " 'tell',\n",
       " 'truncate',\n",
       " 'writable',\n",
       " 'write',\n",
       " 'write_through',\n",
       " 'writelines']"
      ]
     },
     "execution_count": 46,
     "metadata": {},
     "output_type": "execute_result"
    }
   ],
   "source": [
    "dir(f)"
   ]
  },
  {
   "cell_type": "code",
   "execution_count": 48,
   "id": "c293cd43-bbd6-412b-9d60-410dd9888a7f",
   "metadata": {},
   "outputs": [],
   "source": [
    "f.writelines('hardik like to code')"
   ]
  },
  {
   "cell_type": "code",
   "execution_count": 58,
   "id": "51d508c6-cdfe-4922-a710-9e3d62d3887f",
   "metadata": {},
   "outputs": [
    {
     "ename": "UnsupportedOperation",
     "evalue": "not readable",
     "output_type": "error",
     "traceback": [
      "\u001b[0;31m---------------------------------------------------------------------------\u001b[0m",
      "\u001b[0;31mUnsupportedOperation\u001b[0m                      Traceback (most recent call last)",
      "Cell \u001b[0;32mIn[58], line 2\u001b[0m\n\u001b[1;32m      1\u001b[0m f \u001b[38;5;241m=\u001b[39m \u001b[38;5;28mopen\u001b[39m(\u001b[38;5;124m'\u001b[39m\u001b[38;5;124mfunny.txt\u001b[39m\u001b[38;5;124m'\u001b[39m, \u001b[38;5;124m'\u001b[39m\u001b[38;5;124mw\u001b[39m\u001b[38;5;124m'\u001b[39m)\n\u001b[0;32m----> 2\u001b[0m \u001b[38;5;28;01mfor\u001b[39;00m line \u001b[38;5;129;01min\u001b[39;00m f:\n\u001b[1;32m      3\u001b[0m     \u001b[38;5;28mprint\u001b[39m(line)\n\u001b[1;32m      5\u001b[0m f\u001b[38;5;241m.\u001b[39mclose()\n",
      "\u001b[0;31mUnsupportedOperation\u001b[0m: not readable"
     ]
    }
   ],
   "source": []
  },
  {
   "cell_type": "code",
   "execution_count": 54,
   "id": "9f93e330-bdac-400b-87a2-f748b382d71a",
   "metadata": {},
   "outputs": [
    {
     "ename": "ValueError",
     "evalue": "I/O operation on closed file.",
     "output_type": "error",
     "traceback": [
      "\u001b[0;31m---------------------------------------------------------------------------\u001b[0m",
      "\u001b[0;31mValueError\u001b[0m                                Traceback (most recent call last)",
      "Cell \u001b[0;32mIn[54], line 1\u001b[0m\n\u001b[0;32m----> 1\u001b[0m f\u001b[38;5;241m.\u001b[39mwritelines(\u001b[38;5;124m\"\u001b[39m\u001b[38;5;124mhi hardik, this shanu, hardik is the main name of shanu, fathers name of hardik is bhupesh, mothers name of hardik is lata, hardik lives in chennai, u can contact hardik on its mail id = hardikchhipa28@gmail.com ,hardik chhipa\u001b[39m\u001b[38;5;124m\"\u001b[39m)\n",
      "\u001b[0;31mValueError\u001b[0m: I/O operation on closed file."
     ]
    }
   ],
   "source": [
    "f.writelines(\"hi hardik, this shanu, hardik is the main name of shanu, fathers name of hardik is bhupesh, mothers name of hardik is lata, hardik lives in chennai, u can contact hardik on its mail id = hardikchhipa28@gmail.com ,hardik chhipa\")"
   ]
  },
  {
   "cell_type": "code",
   "execution_count": 64,
   "id": "462382ea-154b-4a6b-9dca-536b92358556",
   "metadata": {},
   "outputs": [
    {
     "name": "stdout",
     "output_type": "stream",
     "text": [
      "hardik like to code\n",
      "\n",
      "\n",
      "\n",
      "hi hardik, this shanu\n",
      "\n",
      "\n",
      "\n",
      "hardik is the main name of shanu\n",
      "\n",
      "\n",
      "\n",
      "fathers name of hardik is bhupesh\n",
      "\n",
      "\n",
      "\n",
      "mothers name of hardik is lata\n",
      "\n",
      "\n",
      "\n",
      "hardik lives in chennai\n",
      "\n",
      "\n",
      "\n",
      "u can contact hardik on its mail id = hardikchhipa28@gmail.com\n",
      "\n",
      "\n",
      "\n",
      "hardik chhipa\n",
      "\n"
     ]
    }
   ],
   "source": [
    "with open('funny.txt', 'r') as f:\n",
    "    for lines in f:\n",
    "        print(lines)"
   ]
  },
  {
   "cell_type": "code",
   "execution_count": 68,
   "id": "63c94c05-114f-4882-b6c3-90cc3622e075",
   "metadata": {},
   "outputs": [
    {
     "name": "stdout",
     "output_type": "stream",
     "text": [
      "['hardik like to code\\n', '\\n', 'hi hardik, this shanu\\n', '\\n', 'hardik is the main name of shanu\\n', '\\n', 'fathers name of hardik is bhupesh\\n', '\\n', 'mothers name of hardik is lata\\n', '\\n', 'hardik lives in chennai\\n', '\\n', 'u can contact hardik on its mail id = hardikchhipa28@gmail.com\\n', '\\n', 'hardik chhipa\\n']\n"
     ]
    }
   ],
   "source": [
    "with open('funny.txt', 'r') as f:\n",
    "    lines = f.readlines()\n",
    "    print(lines)"
   ]
  },
  {
   "cell_type": "code",
   "execution_count": 76,
   "id": "83052e78-306c-4285-8789-cba0910507fc",
   "metadata": {},
   "outputs": [],
   "source": [
    "with open('love.py', 'w') as f:\n",
    "    f.write('''a = 10\n",
    "b = 10 \n",
    "print(a+b)''')"
   ]
  },
  {
   "cell_type": "code",
   "execution_count": 98,
   "id": "4eb944b2-85dd-47b6-9e87-e648fb157d07",
   "metadata": {},
   "outputs": [
    {
     "name": "stdout",
     "output_type": "stream",
     "text": [
      "26.454545454545453\n"
     ]
    }
   ],
   "source": [
    "import statistics\n",
    "list = [1,2,3,4,5,6,7,8,9]\n",
    "\n",
    "mean = statistics.mean(list)\n",
    "\n",
    "print(mean)"
   ]
  },
  {
   "cell_type": "code",
   "execution_count": 262,
   "id": "0ea11227-7a10-409a-927a-e12fd5d9f7a9",
   "metadata": {},
   "outputs": [
    {
     "name": "stdout",
     "output_type": "stream",
     "text": [
      "[6, 4], [94, 76]\n",
      "5, 85\n",
      "36, 38\n",
      "virat kohli is the player from india birth at 1988, achive [6, 4] in this season.\n"
     ]
    }
   ],
   "source": [
    "import datetime\n",
    "import statistics\n",
    "class cricketplayer:\n",
    "    def __init__(self, fname, lname, team, birth_yr): # Custom Constructor\n",
    "        self.first_name  = fname\n",
    "        self.last_name  = lname\n",
    "        self.team_name = team\n",
    "        self.birth_year = birth_yr\n",
    "        self.score = []\n",
    "\n",
    "    def get_age(self):\n",
    "        now = datetime.datetime.now()\n",
    "        curr_date = now.year\n",
    "        return curr_date - self.birth_year\n",
    "\n",
    "    def add_score(self, score):\n",
    "        self.score.append(score)\n",
    "\n",
    "    def avg_score(self):\n",
    "        return statistics.mean(self.score)\n",
    "        \n",
    "    def __lt__(self, other): # Operator Overloading\n",
    "        self = self.avg_score()\n",
    "        other = other.avg_score()\n",
    "        return self < other\n",
    "\n",
    "    def __str__(self): # Operator Overloading\n",
    "        return f\"{self.first_name} {self.last_name} is the player from {self.team_name} birth at {self.birth_year}, achive {self.score} in this season.\"\n",
    "\n",
    "virat = cricketplayer('virat', 'kohli', 'india', 1988)\n",
    "david = cricketplayer('david', 'warner', 'australia', 1986)\n",
    "virat.add_score(6)\n",
    "virat.add_score(4)\n",
    "david.add_score(94)\n",
    "david.add_score(76)\n",
    "print(f\"{virat.score}, {david.score}\")\n",
    "print(f\"{virat.avg_score()}, {david.avg_score()}\")\n",
    "print(f\"{virat.get_age()}, {david.get_age()}\")\n",
    "virat < david\n",
    "print(virat)"
   ]
  },
  {
   "cell_type": "code",
   "execution_count": 202,
   "id": "3945ebea-427f-465b-a975-84287d5dc089",
   "metadata": {},
   "outputs": [
    {
     "name": "stdout",
     "output_type": "stream",
     "text": [
      "Bhilwara\n"
     ]
    }
   ],
   "source": [
    "class address:\n",
    "    def __init__(self, street, colony, city, state):\n",
    "        self.street_name = street\n",
    "        self.colony_name = colony\n",
    "        self.city_name = city\n",
    "        self.state_name = state\n",
    "\n",
    "\n",
    "hardik_home = address('Ramdham', 'Azad Nagar', 'Bhilwara', 'Rajasthan')\n",
    "\n",
    "print(hardik_home.city_name)\n",
    "        \n",
    "        "
   ]
  },
  {
   "cell_type": "code",
   "execution_count": 204,
   "id": "b08814aa-e1c7-42de-9bd2-043ef22baddb",
   "metadata": {},
   "outputs": [
    {
     "name": "stdout",
     "output_type": "stream",
     "text": [
      "John(36)\n"
     ]
    }
   ],
   "source": [
    "class Person:\n",
    "  def __init__(self, name, age):\n",
    "    self.name = name\n",
    "    self.age = age\n",
    "\n",
    "  def __str__(self):\n",
    "    return f\"{self.name}({self.age})\"\n",
    "\n",
    "p1 = Person(\"John\", 36)\n",
    "\n",
    "print(p1)"
   ]
  },
  {
   "cell_type": "code",
   "execution_count": 219,
   "id": "0d8af7eb-f0b0-4420-bb3e-014d8dac87cb",
   "metadata": {},
   "outputs": [
    {
     "data": {
      "text/plain": [
       "['__abs__',\n",
       " '__add__',\n",
       " '__and__',\n",
       " '__bool__',\n",
       " '__ceil__',\n",
       " '__class__',\n",
       " '__delattr__',\n",
       " '__dir__',\n",
       " '__divmod__',\n",
       " '__doc__',\n",
       " '__eq__',\n",
       " '__float__',\n",
       " '__floor__',\n",
       " '__floordiv__',\n",
       " '__format__',\n",
       " '__ge__',\n",
       " '__getattribute__',\n",
       " '__getnewargs__',\n",
       " '__getstate__',\n",
       " '__gt__',\n",
       " '__hash__',\n",
       " '__index__',\n",
       " '__init__',\n",
       " '__init_subclass__',\n",
       " '__int__',\n",
       " '__invert__',\n",
       " '__le__',\n",
       " '__lshift__',\n",
       " '__lt__',\n",
       " '__mod__',\n",
       " '__mul__',\n",
       " '__ne__',\n",
       " '__neg__',\n",
       " '__new__',\n",
       " '__or__',\n",
       " '__pos__',\n",
       " '__pow__',\n",
       " '__radd__',\n",
       " '__rand__',\n",
       " '__rdivmod__',\n",
       " '__reduce__',\n",
       " '__reduce_ex__',\n",
       " '__repr__',\n",
       " '__rfloordiv__',\n",
       " '__rlshift__',\n",
       " '__rmod__',\n",
       " '__rmul__',\n",
       " '__ror__',\n",
       " '__round__',\n",
       " '__rpow__',\n",
       " '__rrshift__',\n",
       " '__rshift__',\n",
       " '__rsub__',\n",
       " '__rtruediv__',\n",
       " '__rxor__',\n",
       " '__setattr__',\n",
       " '__sizeof__',\n",
       " '__str__',\n",
       " '__sub__',\n",
       " '__subclasshook__',\n",
       " '__truediv__',\n",
       " '__trunc__',\n",
       " '__xor__',\n",
       " 'as_integer_ratio',\n",
       " 'bit_count',\n",
       " 'bit_length',\n",
       " 'conjugate',\n",
       " 'denominator',\n",
       " 'from_bytes',\n",
       " 'imag',\n",
       " 'is_integer',\n",
       " 'numerator',\n",
       " 'real',\n",
       " 'to_bytes']"
      ]
     },
     "execution_count": 219,
     "metadata": {},
     "output_type": "execute_result"
    }
   ],
   "source": [
    "dir(int)"
   ]
  },
  {
   "cell_type": "code",
   "execution_count": 249,
   "id": "e2f34cb4-7a12-49ea-927a-386a7a6497d0",
   "metadata": {},
   "outputs": [
    {
     "name": "stdout",
     "output_type": "stream",
     "text": [
      " Vector (1.5, 2.3333333333333335)\n",
      " Vector (2, 4)\n",
      " Vector (24, 21)\n",
      " Vector (10, 10)\n"
     ]
    }
   ],
   "source": [
    "class vector:\n",
    "\n",
    "    def __init__(self, x, y):\n",
    "        self.x = x\n",
    "        self.y = y\n",
    "\n",
    "\n",
    "    def __add__(self, other):\n",
    "        return vector(self.x + other.x, self.y + other.y)\n",
    "\n",
    "    def __sub__(self, other):\n",
    "        return vector(self.x - other.x, self.y - other.y)\n",
    "\n",
    "    def __mul__(self, other):\n",
    "        return vector(self.x * other.x, self.y * other.y)\n",
    "\n",
    "    def __truediv__(self, other):\n",
    "        return vector(self.x / other.x, self.y / other.y)\n",
    "        \n",
    "    def __repr__(self):\n",
    "        return f\" Vector ({self.x}, {self.y})\"\n",
    "\n",
    "\n",
    "obj1 = vector(6,7)\n",
    "obj2 = vector(4,3)\n",
    "\n",
    "print(obj1 / obj2)\n",
    "print(obj1 - obj2)\n",
    "print(obj1 * obj2)\n",
    "print(obj1 + obj2)"
   ]
  },
  {
   "cell_type": "code",
   "execution_count": 233,
   "id": "88e0d0da-ec37-4035-b0ba-8d2bd7d35b4c",
   "metadata": {},
   "outputs": [
    {
     "data": {
      "text/plain": [
       "['__add__',\n",
       " '__class__',\n",
       " '__delattr__',\n",
       " '__dict__',\n",
       " '__dir__',\n",
       " '__doc__',\n",
       " '__eq__',\n",
       " '__format__',\n",
       " '__ge__',\n",
       " '__getattribute__',\n",
       " '__getstate__',\n",
       " '__gt__',\n",
       " '__hash__',\n",
       " '__init__',\n",
       " '__init_subclass__',\n",
       " '__le__',\n",
       " '__lt__',\n",
       " '__module__',\n",
       " '__ne__',\n",
       " '__new__',\n",
       " '__reduce__',\n",
       " '__reduce_ex__',\n",
       " '__repr__',\n",
       " '__setattr__',\n",
       " '__sizeof__',\n",
       " '__str__',\n",
       " '__subclasshook__',\n",
       " '__weakref__',\n",
       " 'x',\n",
       " 'y']"
      ]
     },
     "execution_count": 233,
     "metadata": {},
     "output_type": "execute_result"
    }
   ],
   "source": [
    "dir(obj1)"
   ]
  },
  {
   "cell_type": "code",
   "execution_count": 260,
   "id": "7e2986f6-d780-4250-b385-69ccc8cd6cf4",
   "metadata": {},
   "outputs": [
    {
     "name": "stdout",
     "output_type": "stream",
     "text": [
      "Avenger Captain America of age 105 belongs to male gender having Super strength super powers using Shield\n",
      "Avenger Iron Man of age 48 belongs to male gender having Technology super powers using Armor\n",
      "Avenger Black Widow of age 32 belongs to female gender having Superhuman super powers using Batons\n",
      "Avenger Hulk of age 62 belongs to male gender having Unlimited Strength super powers using Unarmed\n",
      "Avenger Thor of age 1500 belongs to male gender having Electric Charge super powers using Mjölnir\n",
      "Avenger Thor of age 52 belongs to male gender having Fighting Skills super powers using Bow and Arrows\n"
     ]
    }
   ],
   "source": [
    "class Avengers:\n",
    "\n",
    "    def __init__(self, name, age, sex, super_power, weapon):\n",
    "\n",
    "        self.name = name\n",
    "        self.age = age\n",
    "        self.sex = sex\n",
    "        self.super_power = super_power\n",
    "        self.weapon = weapon\n",
    "\n",
    "    def __repr__(self):\n",
    "        return f\"Avenger {self.name} of age {self.age} belongs to {self.sex} gender having {self.super_power} super powers using {self.weapon}\"\n",
    "\n",
    "Captain_America = Avengers(\"Captain America\", 105, \"male\", \"Super strength\", \"Shield\")\n",
    "Iron_Man = Avengers(\"Iron Man\", 48, \"male\", \"Technology\", \"Armor\")\n",
    "Black_Widow = Avengers(\"Black Widow\", 32, \"female\", \"Superhuman\", \"Batons\")\n",
    "Hulk = Avengers(\"Hulk\", 62, \"male\", \"Unlimited Strength\", \"Unarmed\")\n",
    "Thor = Avengers(\"Thor\", 1500, \"male\", \"Electric Charge\", \"Mjölnir\")\n",
    "Hawkeye = Avengers(\"Thor\", 52, \"male\", \"Fighting Skills\", \"Bow and Arrows\")\n",
    "\n",
    "print(Captain_America)\n",
    "print(Iron_Man)\n",
    "print(Black_Widow)\n",
    "print(Hulk)\n",
    "print(Thor)\n",
    "print(Hawkeye)"
   ]
  },
  {
   "cell_type": "markdown",
   "id": "38148da8-e78d-459f-807a-035c23a84ca3",
   "metadata": {},
   "source": [
    "3. Captain America has Super strength, Iron Man has Technology, Black Widow is superhuman, Hulk has Unlimited Strength, Thor has super Energy and Hawkeye has fighting skills as superpowers.\n",
    "4. Weapons: Shield, Armor, Batons, No Weapon for hulk, Mjölnir, Bow and Arrows  \n",
    "5. Create methods to getting the information of each superhero\n",
    "6. Create a method is_leader() which will tell if the superhero is leader or not."
   ]
  },
  {
   "cell_type": "code",
   "execution_count": 264,
   "id": "a296ae2e-6139-48c7-88d1-c2e30aed9b35",
   "metadata": {},
   "outputs": [
    {
     "name": "stdout",
     "output_type": "stream",
     "text": [
      "Starting the car ...\n",
      "Three Class is being driven..\n",
      "Stopping the car ...\n"
     ]
    }
   ],
   "source": [
    "class BMW:\n",
    "    def __init__(self, name, model, year):\n",
    "        self.name = name\n",
    "        self.model = model\n",
    "        self.year = year\n",
    "\n",
    "    def start(self):\n",
    "        print(\"Starting the car ...\")\n",
    "\n",
    "    def stop(self):\n",
    "        print(\"Stopping the car ...\")\n",
    "\n",
    "    def drive(self):\n",
    "        pass\n",
    "\n",
    "\n",
    "class ThreeClass(BMW):\n",
    "    def __init__(self, CuriseAssistEnabled, name, model, year):\n",
    "        BMW.__init__(self, name, model, year)\n",
    "        self.CuriseAssistEnabled = CuriseAssistEnabled\n",
    "\n",
    "    def display(self):\n",
    "        print(self.CuriseAssistEnabled)\n",
    "\n",
    "    def drive(self):\n",
    "        print(\"Three Class is being driven..\")\n",
    "\n",
    "\n",
    "threeClass = ThreeClass(True, \"BMW\", \"328i\", 2018)\n",
    "threeClass.start()\n",
    "threeClass.drive()\n",
    "threeClass.stop()"
   ]
  },
  {
   "cell_type": "code",
   "execution_count": 266,
   "id": "b891dd54-18ad-4c0c-9a43-525684f66bd7",
   "metadata": {},
   "outputs": [
    {
     "name": "stdout",
     "output_type": "stream",
     "text": [
      "Enter number 1:  1\n",
      "Enter number 2:  0\n"
     ]
    },
    {
     "name": "stdout",
     "output_type": "stream",
     "text": [
      "Exception type:  TypeError\n",
      "Exception occurred: unsupported operand type(s) for /: 'str' and 'int'\n",
      "None\n"
     ]
    }
   ],
   "source": [
    "if __name__ == \"__main__\":\n",
    "    x = input(\"Enter number 1: \")\n",
    "    y = input(\"Enter number 2: \")\n",
    "    try:\n",
    "        z = x / int(y)\n",
    "\n",
    "    except Exception as e:\n",
    "        print(\"Exception type: \", type(e).__name__)\n",
    "        print(\"Exception occurred:\", e)\n",
    "        z = None\n",
    "\n",
    "    finally:\n",
    "        print(z)"
   ]
  },
  {
   "cell_type": "code",
   "execution_count": 268,
   "id": "45b72f00-9dff-4ea0-b5f2-e03ab705a84e",
   "metadata": {},
   "outputs": [
    {
     "name": "stdout",
     "output_type": "stream",
     "text": [
      "1\n",
      "3\n",
      "4\n"
     ]
    }
   ],
   "source": [
    "try:\n",
    "  print(1)\n",
    "  print(20 / 0)\n",
    "  print(2)\n",
    "except ZeroDivisionError:\n",
    "  print(3)\n",
    "finally:\n",
    "  print(4)"
   ]
  },
  {
   "cell_type": "code",
   "execution_count": null,
   "id": "65261a49-5149-4e24-a69d-d0fe5f9cc45c",
   "metadata": {},
   "outputs": [],
   "source": [
    "class Person:\n",
    "    def set_name(name):\n",
    "        name = name\n",
    "\n",
    "    def get_name(name):\n",
    "        return name\n",
    "    \n",
    "p1 = Person()\n",
    "p2 = Person()\n",
    "\n",
    "p1.set_name(\"hardik\")\n",
    "p2.set_name(\"chhipe\")\n",
    "\n",
    "print(p1.get_name())\n",
    "print(p2.get_name())\n"
   ]
  },
  {
   "cell_type": "code",
   "execution_count": null,
   "id": "85edeea6",
   "metadata": {},
   "outputs": [],
   "source": []
  }
 ],
 "metadata": {
  "kernelspec": {
   "display_name": "Python 3 (ipykernel)",
   "language": "python",
   "name": "python3"
  },
  "language_info": {
   "codemirror_mode": {
    "name": "ipython",
    "version": 3
   },
   "file_extension": ".py",
   "mimetype": "text/x-python",
   "name": "python",
   "nbconvert_exporter": "python",
   "pygments_lexer": "ipython3",
   "version": "3.12.4"
  }
 },
 "nbformat": 4,
 "nbformat_minor": 5
}
