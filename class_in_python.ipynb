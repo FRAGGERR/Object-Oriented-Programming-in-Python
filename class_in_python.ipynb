{
 "cells": [
  {
   "cell_type": "code",
   "execution_count": null,
   "id": "99e2ffdd-9495-472c-93e1-1084b4a0ac88",
   "metadata": {},
   "outputs": [],
   "source": [
    "100inThis = variable"
   ]
  },
  {
   "cell_type": "code",
   "execution_count": null,
   "id": "0916cda3-d4b9-41d3-9550-0debb7a0f8dc",
   "metadata": {},
   "outputs": [],
   "source": [
    "_variable = 100"
   ]
  },
  {
   "cell_type": "code",
   "execution_count": null,
   "id": "030616d8-9f09-43de-91eb-424019997fd7",
   "metadata": {},
   "outputs": [],
   "source": [
    "_variable"
   ]
  },
  {
   "cell_type": "code",
   "execution_count": null,
   "id": "83e7999b-d46e-4181-9fab-c638a977558e",
   "metadata": {},
   "outputs": [],
   "source": [
    "pi = 22/7"
   ]
  },
  {
   "cell_type": "code",
   "execution_count": null,
   "id": "e6aac675-5a16-4f15-9f82-3842c6ddb1eb",
   "metadata": {},
   "outputs": [],
   "source": [
    "pi"
   ]
  },
  {
   "cell_type": "code",
   "execution_count": null,
   "id": "7fbd2aa7-7ee5-45da-bb84-da6fba2ae100",
   "metadata": {},
   "outputs": [],
   "source": [
    "print(1e15)\n",
    "print()"
   ]
  },
  {
   "cell_type": "code",
   "execution_count": null,
   "id": "8e77bbf6-97b9-4701-a8c3-b63dc73c5c22",
   "metadata": {},
   "outputs": [],
   "source": [
    "456e15*(6.045e-3)"
   ]
  },
  {
   "cell_type": "code",
   "execution_count": null,
   "id": "97868933-906e-4e65-abeb-28175b3be720",
   "metadata": {},
   "outputs": [],
   "source": [
    "1e-3"
   ]
  },
  {
   "cell_type": "markdown",
   "id": "5bf2a297-b536-430f-9a70-8bc12c96754b",
   "metadata": {},
   "source": [
    "## Binary Representation in Python"
   ]
  },
  {
   "cell_type": "code",
   "execution_count": null,
   "id": "d2c3ab79-f033-4e4c-afba-fabfaed42f17",
   "metadata": {},
   "outputs": [],
   "source": [
    "format(65, 'D')"
   ]
  },
  {
   "cell_type": "code",
   "execution_count": null,
   "id": "ab129b7b-94a8-433c-b14e-85c94f2e8ae1",
   "metadata": {},
   "outputs": [],
   "source": [
    "first = 'Hardik'\n",
    "second = 'Janenie'"
   ]
  },
  {
   "cell_type": "code",
   "execution_count": null,
   "id": "9c5ecb8d-4787-4d5f-943f-3cae61036c4b",
   "metadata": {},
   "outputs": [],
   "source": [
    "    couple = f'{first} loves {second} allot.' \n",
    "    print(couple)"
   ]
  },
  {
   "cell_type": "code",
   "execution_count": null,
   "id": "585c4ccb-889b-4406-8aa6-84f311ee2e13",
   "metadata": {},
   "outputs": [],
   "source": [
    "classReg = [1,2,3,4,5,6,7,8,9,0]\n",
    "classReg"
   ]
  },
  {
   "cell_type": "code",
   "execution_count": null,
   "id": "e0e78e4b-1fd4-4013-9615-2160d617ab02",
   "metadata": {},
   "outputs": [],
   "source": [
    "71 not in classReg"
   ]
  },
  {
   "cell_type": "code",
   "execution_count": null,
   "id": "8735c0bc-95a3-40db-af5c-e4f6dc889369",
   "metadata": {},
   "outputs": [],
   "source": [
    "love = '''\n",
    "hardik love to learn machine learning and teach also\n",
    "but hardik loves janenie most\n",
    "'''\n",
    "love\n",
    "print(love)"
   ]
  },
  {
   "cell_type": "code",
   "execution_count": null,
   "id": "a8bd5f7b-22df-4fa0-8861-f3a9277aa6eb",
   "metadata": {},
   "outputs": [],
   "source": [
    "dinner = \"my last night dinner date got expensive and i've to pay ₹5k\""
   ]
  },
  {
   "cell_type": "code",
   "execution_count": null,
   "id": "e69b5aaa-3019-4808-b9b8-dddbf719fdc3",
   "metadata": {},
   "outputs": [],
   "source": [
    "updated_dinner = dinner.replace(\"₹5k\", \"$70\")"
   ]
  },
  {
   "cell_type": "code",
   "execution_count": null,
   "id": "f29b1134-7569-4b8a-b402-c6c558629d3b",
   "metadata": {},
   "outputs": [],
   "source": [
    "dinner"
   ]
  },
  {
   "cell_type": "code",
   "execution_count": null,
   "id": "10f16efe-bd45-4c85-9dea-622ca86218a6",
   "metadata": {},
   "outputs": [],
   "source": [
    "updated_dinner"
   ]
  },
  {
   "cell_type": "code",
   "execution_count": null,
   "id": "1fb9240f-478c-4220-b10b-17412dbb293a",
   "metadata": {},
   "outputs": [],
   "source": [
    "print(dir(dinner))"
   ]
  },
  {
   "cell_type": "code",
   "execution_count": null,
   "id": "a84b41d9-94fb-4f0c-80be-fa3a72b39f64",
   "metadata": {},
   "outputs": [],
   "source": [
    "dinner.upper()"
   ]
  },
  {
   "cell_type": "code",
   "execution_count": null,
   "id": "bb113f22-eff0-4377-bb5a-1f02016c6f0a",
   "metadata": {},
   "outputs": [],
   "source": [
    "d = \"    lost of space   here  \"\n",
    "d.strip()"
   ]
  },
  {
   "cell_type": "code",
   "execution_count": null,
   "id": "993f6c1e-8f4e-4f84-95ec-d7e729f1c39b",
   "metadata": {},
   "outputs": [],
   "source": [
    "items = ['aata', 'lemon', 'honey', 'musturd_oil', 'onion', 'bread', 'egg']\n",
    "print(items[-4:-1:2])"
   ]
  },
  {
   "cell_type": "code",
   "execution_count": null,
   "id": "79a98947-cdb6-4ae3-8394-7507390690da",
   "metadata": {},
   "outputs": [],
   "source": [
    "dir(items)"
   ]
  },
  {
   "cell_type": "code",
   "execution_count": null,
   "id": "329dede1-63ee-4cf0-b137-971b5c04c7ae",
   "metadata": {},
   "outputs": [],
   "source": [
    "items.append('egg')\n",
    "items.count('egg')\n",
    "items.insert(-1, 'chilli')"
   ]
  },
  {
   "cell_type": "code",
   "execution_count": null,
   "id": "2577be3f-a3c8-4967-bfdc-bc69015eb95c",
   "metadata": {},
   "outputs": [],
   "source": [
    "items.sort()\n",
    "items.pop()\n",
    "items.remove('egg')\n",
    "items"
   ]
  },
  {
   "cell_type": "code",
   "execution_count": null,
   "id": "0084bcef-69c3-4203-8c7c-11324af61fc6",
   "metadata": {},
   "outputs": [],
   "source": [
    "expenses = [1000, 2000, 3000, 4000, 3000, 5778, 6789, 4575]\n",
    "\n",
    "sum = 0\n",
    "for expense in expenses:\n",
    "    sum += expense\n",
    "print(sum)"
   ]
  },
  {
   "cell_type": "code",
   "execution_count": null,
   "id": "dcefe87f-b697-4fae-abbf-00af169977f0",
   "metadata": {},
   "outputs": [],
   "source": [
    "list(range(0, 1091, 109))"
   ]
  },
  {
   "cell_type": "code",
   "execution_count": null,
   "id": "1a4b8c89-4311-42ba-87c6-c44866ba977a",
   "metadata": {},
   "outputs": [],
   "source": [
    "for i in range(20):\n",
    "    print(i*i)"
   ]
  },
  {
   "cell_type": "code",
   "execution_count": null,
   "id": "0e868c82-225a-4cdc-8a4b-3d7b6ed8251f",
   "metadata": {},
   "outputs": [],
   "source": [
    "for i in range(len(expenses)):\n",
    "    print(i)\n",
    "    print(expenses[i])"
   ]
  },
  {
   "cell_type": "code",
   "execution_count": null,
   "id": "0eb5bc82-f6e9-42ca-b3a6-661704cf3685",
   "metadata": {},
   "outputs": [],
   "source": [
    "for l in 'SkillBasics':\n",
    "    if l == 'i':\n",
    "        continue\n",
    "    print(l, end='')"
   ]
  },
  {
   "cell_type": "code",
   "execution_count": null,
   "id": "2aabd305-d47e-4d19-9d57-ab4bac2bf872",
   "metadata": {},
   "outputs": [],
   "source": [
    "x = -1\n",
    "while x <=99:\n",
    "  x += 2\n",
    "print(x)"
   ]
  },
  {
   "cell_type": "code",
   "execution_count": null,
   "id": "d936ec77-236b-474b-b731-4edfacbe4c84",
   "metadata": {},
   "outputs": [],
   "source": [
    "def fun():\n",
    "    print(\"Inside fun function\")\n",
    "\n",
    "fun()"
   ]
  },
  {
   "cell_type": "code",
   "execution_count": null,
   "id": "1930a539-b1b4-4070-8580-b4417ef411c8",
   "metadata": {},
   "outputs": [],
   "source": [
    "def fun():\n",
    "    return \"Inside function\"\n",
    "\n",
    "fun()"
   ]
  },
  {
   "cell_type": "code",
   "execution_count": null,
   "id": "9cdaca74-fd03-452a-a196-9748aaa1c3bf",
   "metadata": {},
   "outputs": [],
   "source": [
    "def myfun(x = 3, y = 50):\n",
    "    print('x : ', x)\n",
    "    print('y : ', y)\n",
    "\n",
    "\n",
    "myfun(x = 90)"
   ]
  },
  {
   "cell_type": "code",
   "execution_count": null,
   "id": "e6c79153-bef1-4011-a7a9-4d961d42e582",
   "metadata": {},
   "outputs": [],
   "source": [
    "def name(firstname, lastname):\n",
    "    return f'{firstname}  loves  {lastname}'\n",
    "\n",
    "name('hardik', 'janenie')\n",
    "# name('manas', 'aayush')"
   ]
  },
  {
   "cell_type": "code",
   "execution_count": null,
   "id": "a7e5f369-466a-44b2-b283-bf37207af593",
   "metadata": {},
   "outputs": [],
   "source": [
    "def myfun1 (*argv):\n",
    "    for arg in argv:\n",
    "        print(arg)\n",
    "\n",
    "myfun1('Hardik', 'Loves', 'Janenie')\n",
    "myfun1(\"hardik 'hate' manas\")"
   ]
  },
  {
   "cell_type": "code",
   "execution_count": null,
   "id": "21f33767-de43-44de-b6ae-a5990d6b3d29",
   "metadata": {},
   "outputs": [],
   "source": [
    "cube = lambda y : y*y*y\n",
    "\n",
    "cube(3)"
   ]
  },
  {
   "cell_type": "code",
   "execution_count": null,
   "id": "18a3125a-1996-4ac3-a4f4-90edb8552838",
   "metadata": {},
   "outputs": [],
   "source": [
    "def cube(x):\n",
    "    return x*x*x\n",
    "\n",
    "cube(10)"
   ]
  },
  {
   "cell_type": "code",
   "execution_count": null,
   "id": "52d45302-a6a1-4640-97a8-6ed79f52f66f",
   "metadata": {},
   "outputs": [],
   "source": [
    "numbers = [1, 2, 3, 4, 5]\n",
    "squared_numbers = list(map(lambda x: x ** 2, numbers))\n",
    "\n",
    "print(squared_numbers)  # Output: [1, 4, 9, 16, 25]"
   ]
  },
  {
   "cell_type": "code",
   "execution_count": null,
   "id": "61a27a5f-23d5-439a-b7e7-caf42fdf311c",
   "metadata": {},
   "outputs": [],
   "source": [
    "name = ['hardik', 'Janenie', 'Ranu', 'Adhitya']\n",
    "\n",
    "uppercase = list(map(lambda x: x.upper(), name))\n",
    "print(uppercase)"
   ]
  },
  {
   "cell_type": "code",
   "execution_count": null,
   "id": "aee59d3d-2b95-453e-8869-0b3205af4a0f",
   "metadata": {},
   "outputs": [],
   "source": [
    "def no_return_function():\n",
    "    x = 10\n",
    "    y = 20\n",
    "    result = x + y\n",
    "    # No return statement here\n",
    "\n",
    "# Calling the function\n",
    "output = no_return_function()\n",
    "print(output)  # Output: None\n"
   ]
  },
  {
   "cell_type": "code",
   "execution_count": null,
   "id": "53528c5b-7da6-49b0-974d-7a049f0756f1",
   "metadata": {},
   "outputs": [],
   "source": [
    "d = {\n",
    "    'hardik' : 8888,\n",
    "    'manas' : 3333,\n",
    "    'aayush' : 1111,\n",
    "    'gaurav' : 9999\n",
    "}\n",
    "\n",
    "dir(d)"
   ]
  },
  {
   "cell_type": "code",
   "execution_count": null,
   "id": "1543cf5c-4e3d-4caf-9705-dfe9d3c375f3",
   "metadata": {},
   "outputs": [],
   "source": [
    "d.get(\"hardik\")\n",
    "d.update('hardik', 1111)"
   ]
  },
  {
   "cell_type": "code",
   "execution_count": null,
   "id": "0a3d46a2-de14-4c02-9e91-e95e6003aa12",
   "metadata": {},
   "outputs": [],
   "source": [
    "import math"
   ]
  },
  {
   "cell_type": "code",
   "execution_count": null,
   "id": "548141cf-326b-4c1d-8067-492abc6a3574",
   "metadata": {},
   "outputs": [],
   "source": [
    "dir(math)"
   ]
  },
  {
   "cell_type": "code",
   "execution_count": null,
   "id": "2611edaf-1f71-4f1e-8523-6479dff19af8",
   "metadata": {},
   "outputs": [],
   "source": [
    "math.sqrt(490)"
   ]
  },
  {
   "cell_type": "code",
   "execution_count": null,
   "id": "ea5fa8bd-cf67-4f89-8c9d-2083d2194572",
   "metadata": {},
   "outputs": [],
   "source": [
    "math.pow(56, -7)"
   ]
  },
  {
   "cell_type": "code",
   "execution_count": null,
   "id": "dc8dc25f-01c6-44dd-bcfd-b400aa6356e6",
   "metadata": {},
   "outputs": [],
   "source": [
    "math.pi"
   ]
  },
  {
   "cell_type": "code",
   "execution_count": null,
   "id": "bb0b8fa7-bad1-48c9-b63a-1de2bae2abf7",
   "metadata": {},
   "outputs": [],
   "source": [
    "import pandas as pd"
   ]
  },
  {
   "cell_type": "code",
   "execution_count": null,
   "id": "334a69c1-1523-4fd6-beb7-d5c4e55eed18",
   "metadata": {},
   "outputs": [],
   "source": [
    "dir(pd)"
   ]
  },
  {
   "cell_type": "code",
   "execution_count": null,
   "id": "d788dc86-23fb-4be9-b5fb-080087eee10e",
   "metadata": {},
   "outputs": [],
   "source": [
    "pd.pivot"
   ]
  },
  {
   "cell_type": "code",
   "execution_count": null,
   "id": "088142db-a76f-4080-a572-be77b939401e",
   "metadata": {},
   "outputs": [],
   "source": [
    "!pip install pyroids"
   ]
  },
  {
   "cell_type": "code",
   "execution_count": null,
   "id": "01055d79-143b-44cb-8a65-64e3baf80cec",
   "metadata": {},
   "outputs": [],
   "source": [
    "import pyroids\n",
    "dir(pyroids)"
   ]
  },
  {
   "cell_type": "code",
   "execution_count": null,
   "id": "de5eecda-ece6-42c6-a053-22d9af0d3d66",
   "metadata": {},
   "outputs": [],
   "source": [
    "pyroids.launch()"
   ]
  },
  {
   "cell_type": "code",
   "execution_count": null,
   "id": "84330aa3-0ae4-489b-b86b-4253ef3c9543",
   "metadata": {},
   "outputs": [],
   "source": [
    "f = open(\"funny.txt\", 'w')"
   ]
  },
  {
   "cell_type": "code",
   "execution_count": null,
   "id": "3560d4f9-10ef-4c44-b89b-7808c03007be",
   "metadata": {},
   "outputs": [],
   "source": [
    "for line in f:\n",
    "    print(line)\n",
    "\n",
    "f.close()"
   ]
  },
  {
   "cell_type": "code",
   "execution_count": null,
   "id": "dcdc9a8c-b0d8-43dd-8a62-485ecf0dca75",
   "metadata": {},
   "outputs": [],
   "source": [
    "dir(f)"
   ]
  },
  {
   "cell_type": "code",
   "execution_count": null,
   "id": "c293cd43-bbd6-412b-9d60-410dd9888a7f",
   "metadata": {},
   "outputs": [],
   "source": [
    "f.writelines('hardik like to code')"
   ]
  },
  {
   "cell_type": "code",
   "execution_count": null,
   "id": "51d508c6-cdfe-4922-a710-9e3d62d3887f",
   "metadata": {},
   "outputs": [],
   "source": []
  },
  {
   "cell_type": "code",
   "execution_count": null,
   "id": "9f93e330-bdac-400b-87a2-f748b382d71a",
   "metadata": {},
   "outputs": [],
   "source": [
    "f.writelines(\"hi hardik, this shanu, hardik is the main name of shanu, fathers name of hardik is bhupesh, mothers name of hardik is lata, hardik lives in chennai, u can contact hardik on its mail id = hardikchhipa28@gmail.com ,hardik chhipa\")"
   ]
  },
  {
   "cell_type": "code",
   "execution_count": null,
   "id": "462382ea-154b-4a6b-9dca-536b92358556",
   "metadata": {},
   "outputs": [],
   "source": [
    "with open('funny.txt', 'r') as f:\n",
    "    for lines in f:\n",
    "        print(lines)"
   ]
  },
  {
   "cell_type": "code",
   "execution_count": null,
   "id": "63c94c05-114f-4882-b6c3-90cc3622e075",
   "metadata": {},
   "outputs": [],
   "source": [
    "with open('funny.txt', 'r') as f:\n",
    "    lines = f.readlines()\n",
    "    print(lines)"
   ]
  },
  {
   "cell_type": "code",
   "execution_count": null,
   "id": "83052e78-306c-4285-8789-cba0910507fc",
   "metadata": {},
   "outputs": [],
   "source": [
    "with open('love.py', 'w') as f:\n",
    "    f.write('''a = 10\n",
    "b = 10 \n",
    "print(a+b)''')"
   ]
  },
  {
   "cell_type": "code",
   "execution_count": null,
   "id": "4eb944b2-85dd-47b6-9e87-e648fb157d07",
   "metadata": {},
   "outputs": [],
   "source": [
    "import statistics\n",
    "list = [1,2,3,4,5,6,7,8,9]\n",
    "\n",
    "mean = statistics.mean(list)\n",
    "\n",
    "print(mean)"
   ]
  },
  {
   "cell_type": "code",
   "execution_count": null,
   "id": "0ea11227-7a10-409a-927a-e12fd5d9f7a9",
   "metadata": {},
   "outputs": [],
   "source": [
    "import datetime\n",
    "import statistics\n",
    "class cricketplayer:\n",
    "    def __init__(self, fname, lname, team, birth_yr): # Custom Constructor\n",
    "        self.first_name  = fname\n",
    "        self.last_name  = lname\n",
    "        self.team_name = team\n",
    "        self.birth_year = birth_yr\n",
    "        self.score = []\n",
    "\n",
    "    def get_age(self):\n",
    "        now = datetime.datetime.now()\n",
    "        curr_date = now.year\n",
    "        return curr_date - self.birth_year\n",
    "\n",
    "    def add_score(self, score):\n",
    "        self.score.append(score)\n",
    "\n",
    "    def avg_score(self):\n",
    "        return statistics.mean(self.score)\n",
    "        \n",
    "    def __lt__(self, other): # Operator Overloading\n",
    "        self = self.avg_score()\n",
    "        other = other.avg_score()\n",
    "        return self < other\n",
    "\n",
    "    def __str__(self): # Operator Overloading\n",
    "        return f\"{self.first_name} {self.last_name} is the player from {self.team_name} birth at {self.birth_year}, achive {self.score} in this season.\"\n",
    "\n",
    "virat = cricketplayer('virat', 'kohli', 'india', 1988)\n",
    "david = cricketplayer('david', 'warner', 'australia', 1986)\n",
    "virat.add_score(6)\n",
    "virat.add_score(4)\n",
    "david.add_score(94)\n",
    "david.add_score(76)\n",
    "print(f\"{virat.score}, {david.score}\")\n",
    "print(f\"{virat.avg_score()}, {david.avg_score()}\")\n",
    "print(f\"{virat.get_age()}, {david.get_age()}\")\n",
    "virat < david\n",
    "print(virat)"
   ]
  },
  {
   "cell_type": "code",
   "execution_count": null,
   "id": "3945ebea-427f-465b-a975-84287d5dc089",
   "metadata": {},
   "outputs": [],
   "source": [
    "class address:\n",
    "    def __init__(self, street, colony, city, state):\n",
    "        self.street_name = street\n",
    "        self.colony_name = colony\n",
    "        self.city_name = city\n",
    "        self.state_name = state\n",
    "\n",
    "\n",
    "hardik_home = address('Ramdham', 'Azad Nagar', 'Bhilwara', 'Rajasthan')\n",
    "\n",
    "print(hardik_home.city_name)\n",
    "        \n",
    "        "
   ]
  },
  {
   "cell_type": "code",
   "execution_count": null,
   "id": "b08814aa-e1c7-42de-9bd2-043ef22baddb",
   "metadata": {},
   "outputs": [],
   "source": [
    "class Person:\n",
    "  def __init__(self, name, age):\n",
    "    self.name = name\n",
    "    self.age = age\n",
    "\n",
    "  def __str__(self):\n",
    "    return f\"{self.name}({self.age})\"\n",
    "\n",
    "p1 = Person(\"John\", 36)\n",
    "\n",
    "print(p1)"
   ]
  },
  {
   "cell_type": "code",
   "execution_count": null,
   "id": "0d8af7eb-f0b0-4420-bb3e-014d8dac87cb",
   "metadata": {},
   "outputs": [],
   "source": [
    "dir(int)"
   ]
  },
  {
   "cell_type": "code",
   "execution_count": null,
   "id": "e2f34cb4-7a12-49ea-927a-386a7a6497d0",
   "metadata": {},
   "outputs": [],
   "source": [
    "class vector:\n",
    "\n",
    "    def __init__(self, x, y):\n",
    "        self.x = x\n",
    "        self.y = y\n",
    "\n",
    "\n",
    "    def __add__(self, other):\n",
    "        return vector(self.x + other.x, self.y + other.y)\n",
    "\n",
    "    def __sub__(self, other):\n",
    "        return vector(self.x - other.x, self.y - other.y)\n",
    "\n",
    "    def __mul__(self, other):\n",
    "        return vector(self.x * other.x, self.y * other.y)\n",
    "\n",
    "    def __truediv__(self, other):\n",
    "        return vector(self.x / other.x, self.y / other.y)\n",
    "        \n",
    "    def __repr__(self):\n",
    "        return f\" Vector ({self.x}, {self.y})\"\n",
    "\n",
    "\n",
    "obj1 = vector(6,7)\n",
    "obj2 = vector(4,3)\n",
    "\n",
    "print(obj1 / obj2)\n",
    "print(obj1 - obj2)\n",
    "print(obj1 * obj2)\n",
    "print(obj1 + obj2)"
   ]
  },
  {
   "cell_type": "code",
   "execution_count": null,
   "id": "88e0d0da-ec37-4035-b0ba-8d2bd7d35b4c",
   "metadata": {},
   "outputs": [],
   "source": [
    "dir(obj1)"
   ]
  },
  {
   "cell_type": "code",
   "execution_count": null,
   "id": "7e2986f6-d780-4250-b385-69ccc8cd6cf4",
   "metadata": {},
   "outputs": [],
   "source": [
    "class Avengers:\n",
    "\n",
    "    def __init__(self, name, age, sex, super_power, weapon):\n",
    "\n",
    "        self.name = name\n",
    "        self.age = age\n",
    "        self.sex = sex\n",
    "        self.super_power = super_power\n",
    "        self.weapon = weapon\n",
    "\n",
    "    def __repr__(self):\n",
    "        return f\"Avenger {self.name} of age {self.age} belongs to {self.sex} gender having {self.super_power} super powers using {self.weapon}\"\n",
    "\n",
    "Captain_America = Avengers(\"Captain America\", 105, \"male\", \"Super strength\", \"Shield\")\n",
    "Iron_Man = Avengers(\"Iron Man\", 48, \"male\", \"Technology\", \"Armor\")\n",
    "Black_Widow = Avengers(\"Black Widow\", 32, \"female\", \"Superhuman\", \"Batons\")\n",
    "Hulk = Avengers(\"Hulk\", 62, \"male\", \"Unlimited Strength\", \"Unarmed\")\n",
    "Thor = Avengers(\"Thor\", 1500, \"male\", \"Electric Charge\", \"Mjölnir\")\n",
    "Hawkeye = Avengers(\"Thor\", 52, \"male\", \"Fighting Skills\", \"Bow and Arrows\")\n",
    "\n",
    "print(Captain_America)\n",
    "print(Iron_Man)\n",
    "print(Black_Widow)\n",
    "print(Hulk)\n",
    "print(Thor)\n",
    "print(Hawkeye)"
   ]
  },
  {
   "cell_type": "markdown",
   "id": "38148da8-e78d-459f-807a-035c23a84ca3",
   "metadata": {},
   "source": [
    "3. Captain America has Super strength, Iron Man has Technology, Black Widow is superhuman, Hulk has Unlimited Strength, Thor has super Energy and Hawkeye has fighting skills as superpowers.\n",
    "4. Weapons: Shield, Armor, Batons, No Weapon for hulk, Mjölnir, Bow and Arrows  \n",
    "5. Create methods to getting the information of each superhero\n",
    "6. Create a method is_leader() which will tell if the superhero is leader or not."
   ]
  },
  {
   "cell_type": "code",
   "execution_count": null,
   "id": "a296ae2e-6139-48c7-88d1-c2e30aed9b35",
   "metadata": {},
   "outputs": [],
   "source": [
    "class BMW:\n",
    "    def __init__(self, name, model, year):\n",
    "        self.name = name\n",
    "        self.model = model\n",
    "        self.year = year\n",
    "\n",
    "    def start(self):\n",
    "        print(\"Starting the car ...\")\n",
    "\n",
    "    def stop(self):\n",
    "        print(\"Stopping the car ...\")\n",
    "\n",
    "    def drive(self):\n",
    "        pass\n",
    "\n",
    "\n",
    "class ThreeClass(BMW):\n",
    "    def __init__(self, CuriseAssistEnabled, name, model, year):\n",
    "        BMW.__init__(self, name, model, year)\n",
    "        self.CuriseAssistEnabled = CuriseAssistEnabled\n",
    "\n",
    "    def display(self):\n",
    "        print(self.CuriseAssistEnabled)\n",
    "\n",
    "    def drive(self):\n",
    "        print(\"Three Class is being driven..\")\n",
    "\n",
    "\n",
    "threeClass = ThreeClass(True, \"BMW\", \"328i\", 2018)\n",
    "threeClass.start()\n",
    "threeClass.drive()\n",
    "threeClass.stop()"
   ]
  },
  {
   "cell_type": "code",
   "execution_count": null,
   "id": "b891dd54-18ad-4c0c-9a43-525684f66bd7",
   "metadata": {},
   "outputs": [],
   "source": [
    "if __name__ == \"__main__\":\n",
    "    x = input(\"Enter number 1: \")\n",
    "    y = input(\"Enter number 2: \")\n",
    "    try:\n",
    "        z = x / int(y)\n",
    "\n",
    "    except Exception as e:\n",
    "        print(\"Exception type: \", type(e).__name__)\n",
    "        print(\"Exception occurred:\", e)\n",
    "        z = None\n",
    "\n",
    "    finally:\n",
    "        print(z)"
   ]
  },
  {
   "cell_type": "code",
   "execution_count": null,
   "id": "45b72f00-9dff-4ea0-b5f2-e03ab705a84e",
   "metadata": {},
   "outputs": [],
   "source": [
    "try:\n",
    "  print(1)\n",
    "  print(20 / 0)\n",
    "  print(2)\n",
    "except ZeroDivisionError:\n",
    "  print(3)\n",
    "finally:\n",
    "  print(4)"
   ]
  },
  {
   "cell_type": "code",
   "execution_count": null,
   "id": "65261a49-5149-4e24-a69d-d0fe5f9cc45c",
   "metadata": {},
   "outputs": [],
   "source": [
    "class PersonName:\n",
    "    def __init__(self, name):\n",
    "        self.name = name\n",
    "        print(self)# this will tell us, what is self?\n",
    "    \n",
    "    def get_name(self):\n",
    "        return self.name\n",
    "    \n",
    "\n",
    "p1 = PersonName('Hardik')\n",
    "p2 = PersonName(\"Chhipa\")\n",
    "\n",
    "print(p1.get_name())\n",
    "print(p2.get_name())"
   ]
  },
  {
   "cell_type": "markdown",
   "id": "bdad3c79",
   "metadata": {},
   "source": [
    "# No need to use self as for the instances, we can go with anyother name like \"xyz\"."
   ]
  },
  {
   "cell_type": "code",
   "execution_count": null,
   "id": "85edeea6",
   "metadata": {},
   "outputs": [],
   "source": [
    "class school:\n",
    "    def __init__(xyz, branch, since):\n",
    "        xyz.branch = branch           # Instead of self we are using \"xyz\"\n",
    "        xyz.since = since\n",
    "    def get_details(xyz):\n",
    "        return xyz.branch, xyz.since\n",
    "    \n",
    "\n",
    "Central_Academy = school(\"Bapu Nagar\", 2002)\n",
    "Delhi_Public_School = school(\"Udaipur\", 2012)\n",
    "\n",
    "print(\"Central Academy : \",Central_Academy.get_details())\n",
    "print(\"Delhi Public School : \",Delhi_Public_School.get_details())\n",
    "\n"
   ]
  },
  {
   "cell_type": "markdown",
   "id": "8a1fd6cc",
   "metadata": {},
   "source": [
    "# Inheritance:\n",
    "1. single level inheritance\n",
    "2. multi level inheritance\n",
    "3. multiple inheritance"
   ]
  },
  {
   "cell_type": "code",
   "execution_count": 1,
   "id": "111f0fc4",
   "metadata": {},
   "outputs": [
    {
     "name": "stdout",
     "output_type": "stream",
     "text": [
      "car started...\n"
     ]
    }
   ],
   "source": [
    "#Single level inheritance\n",
    "\n",
    "class car:\n",
    "    @staticmethod\n",
    "    def start():\n",
    "        print(\"car started...\")\n",
    "\n",
    "    @staticmethod\n",
    "    def stop():\n",
    "        print(\"car stopped\")\n",
    "\n",
    "class Toyota(car):\n",
    "    def __init__(self, name):\n",
    "        self.name = name\n",
    "\n",
    "Fortuner = Toyota(\"fortuner\")\n",
    "Fortuner.start()\n"
   ]
  },
  {
   "cell_type": "code",
   "execution_count": 4,
   "id": "7d8aae15",
   "metadata": {},
   "outputs": [
    {
     "name": "stdout",
     "output_type": "stream",
     "text": [
      "Fortuner is available in both Petrol and Diesel.\n"
     ]
    }
   ],
   "source": [
    "# Multi level inheritance\n",
    "\n",
    "class car:\n",
    "    @staticmethod\n",
    "    def start():\n",
    "        print(\"Car Started...\")\n",
    "    @staticmethod\n",
    "    def stop():\n",
    "        print(\"Car Stopped...\")\n",
    "\n",
    "class toyota(car):\n",
    "    def __init__(self, types):\n",
    "        self.types = types\n",
    "    def output(self):\n",
    "        print(\"Welcome to Toyota...!\")\n",
    "\n",
    "class Fortuner(toyota):\n",
    "    def __init__(self, FuelType):\n",
    "        self.FuelType = FuelType\n",
    "    print(\"Fortuner is available in both Petrol and Diesel.\")\n",
    "\n",
    "Fortuner1 = Fortuner(\"Petrol\")\n",
    "# print(Fortuner1)"
   ]
  },
  {
   "cell_type": "code",
   "execution_count": 5,
   "id": "2eb417e6",
   "metadata": {},
   "outputs": [
    {
     "name": "stdout",
     "output_type": "stream",
     "text": [
      "Welcome to the class A.\n",
      "Welcome to the class B.\n",
      "Welcome to the class C.\n"
     ]
    }
   ],
   "source": [
    "class A:\n",
    "    print(\"Welcome to the class A.\")\n",
    "class B:\n",
    "    print(\"Welcome to the class B.\")\n",
    "class C(A, B):\n",
    "    print(\"Welcome to the class C.\")\n",
    "\n",
    "\n",
    "c1= C()"
   ]
  },
  {
   "cell_type": "markdown",
   "id": "ae3ed9a6",
   "metadata": {},
   "source": [
    "# Super Class"
   ]
  },
  {
   "cell_type": "code",
   "execution_count": 21,
   "id": "0364ae8b",
   "metadata": {},
   "outputs": [
    {
     "name": "stdout",
     "output_type": "stream",
     "text": [
      "Car Started...\n",
      "Welcome to Toyota...!\n",
      "Welcom to Toyota Fortuner electric\n"
     ]
    }
   ],
   "source": [
    "class car:\n",
    "    def __init__(self, name):\n",
    "        self.name = name\n",
    "\n",
    "    @staticmethod\n",
    "    def start():\n",
    "        print(\"Car Started...\")\n",
    "    @staticmethod\n",
    "    def stop():\n",
    "        print(\"Car Stopped...\")\n",
    "\n",
    "class toyota(car):\n",
    "    def __init__(self, types, name):\n",
    "        super().__init__(name)\n",
    "        self.types = types\n",
    "        car.start()\n",
    "\n",
    "    def output(self):\n",
    "        print(\"Welcome to Toyota...!\")\n",
    "        return f\"Welcom to Toyota {self.name} {self.types}\"\n",
    "\n",
    "Fortuner1 = toyota(\"electric\", \"Fortuner\")\n",
    "print(Fortuner1.output())"
   ]
  },
  {
   "cell_type": "markdown",
   "id": "1a434626",
   "metadata": {},
   "source": [
    " # __class__ method"
   ]
  },
  {
   "cell_type": "code",
   "execution_count": 22,
   "id": "1c417194",
   "metadata": {},
   "outputs": [
    {
     "name": "stdout",
     "output_type": "stream",
     "text": [
      "hardik kumar\n",
      "hardik kumar\n"
     ]
    }
   ],
   "source": [
    "class person:\n",
    "    name = \"anonymous\"\n",
    "\n",
    "    def changename(self, name):\n",
    "        self.__class__.name = \"hardik kumar\"\n",
    "\n",
    "p1 = person()\n",
    "p1.changename(\"hardik chhipa\") # more preference to the class methods\n",
    "print(p1.name)\n",
    "print(person.name)"
   ]
  },
  {
   "cell_type": "markdown",
   "id": "f860e29a",
   "metadata": {},
   "source": [
    "# GETTER SETTER DELETER"
   ]
  },
  {
   "cell_type": "code",
   "execution_count": 50,
   "id": "e5b5ace8",
   "metadata": {},
   "outputs": [
    {
     "name": "stdout",
     "output_type": "stream",
     "text": [
      "10\n",
      "20\n",
      "deleting the var\n"
     ]
    }
   ],
   "source": [
    "class myclass:\n",
    "    def __init__(self, value):\n",
    "        self._value = value\n",
    "    \n",
    "    @property #decorator\n",
    "    def value(self):\n",
    "        return self._value\n",
    "    \n",
    "    @value.setter\n",
    "    def value(self, new_value):\n",
    "        self._value = new_value\n",
    "\n",
    "    @value.deleter\n",
    "    def value(self):\n",
    "        print(\"deleting the var\")\n",
    "\n",
    "        del self._value\n",
    "\n",
    "obj = myclass(10)\n",
    "print(obj.value)\n",
    "obj.value = 20\n",
    "print(obj.value)\n",
    "del obj.value"
   ]
  },
  {
   "cell_type": "code",
   "execution_count": 52,
   "id": "92ce38ac",
   "metadata": {},
   "outputs": [
    {
     "name": "stdout",
     "output_type": "stream",
     "text": [
      "3\n",
      "hardik chhipa\n",
      "[1, 2, 3, 4, 5, 6]\n"
     ]
    }
   ],
   "source": [
    "print(1 + 2)\n",
    "print(\"hardik\" + \" chhipa\") #concatenate\n",
    "print([1,2,3] + [4,5,6]) #merge"
   ]
  },
  {
   "cell_type": "markdown",
   "id": "6db81f8c",
   "metadata": {},
   "source": [
    "# Polymorphism"
   ]
  },
  {
   "cell_type": "code",
   "execution_count": 12,
   "id": "832cacef",
   "metadata": {},
   "outputs": [
    {
     "name": "stdout",
     "output_type": "stream",
     "text": [
      "3 i +  4 j\n",
      "6 i +  7 j\n",
      "9 i +  11 j\n",
      "6 i +  7 j\n"
     ]
    }
   ],
   "source": [
    "class complexnum:\n",
    "    def __init__(self, real, img):\n",
    "        self.real = real\n",
    "        self.img = img\n",
    "\n",
    "    def output(self):\n",
    "        print(self.real,\"i + \",self.img,\"j\")\n",
    "\n",
    "    def __add__(self, obj2): # dunder function for addition\n",
    "        newreal = self.real + obj2.real\n",
    "        newimg = self.img + obj2.img\n",
    "        return complexnum(newreal, newimg)\n",
    "    \n",
    "    def __sub__(self, obj2): # dunder function for subtraction\n",
    "        newreal = self.real - obj2.real\n",
    "        newimg = self.img - obj2.img\n",
    "        return complexnum(newreal, newimg)\n",
    " \n",
    "\n",
    "obj1 = complexnum(3, 4)\n",
    "obj1.output()\n",
    "\n",
    "obj2 = complexnum(6, 7)\n",
    "obj2.output()\n",
    "\n",
    "obj3 = obj1 + obj2\n",
    "obj3.output()\n",
    "\n",
    "obj4 = obj3 - obj1\n",
    "obj4.output()"
   ]
  },
  {
   "cell_type": "code",
   "execution_count": null,
   "id": "90bdf4ce",
   "metadata": {},
   "outputs": [],
   "source": []
  }
 ],
 "metadata": {
  "kernelspec": {
   "display_name": "base",
   "language": "python",
   "name": "python3"
  },
  "language_info": {
   "codemirror_mode": {
    "name": "ipython",
    "version": 3
   },
   "file_extension": ".py",
   "mimetype": "text/x-python",
   "name": "python",
   "nbconvert_exporter": "python",
   "pygments_lexer": "ipython3",
   "version": "3.12.4"
  }
 },
 "nbformat": 4,
 "nbformat_minor": 5
}
